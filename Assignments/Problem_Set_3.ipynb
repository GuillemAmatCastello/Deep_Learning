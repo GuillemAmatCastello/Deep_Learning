{
 "cells": [
  {
   "cell_type": "markdown",
   "metadata": {},
   "source": [
    "## Problem Set 3\n",
    "**ECE 685D**: Deep Learning (Fall 2020) <br>\n",
    "**Full name:** Guillem Amat Castello\n"
   ]
  },
  {
   "cell_type": "markdown",
   "metadata": {},
   "source": [
    "<br>"
   ]
  },
  {
   "cell_type": "markdown",
   "metadata": {},
   "source": [
    "### Problem 3: Binary Classification with Generalized Linear Models"
   ]
  },
  {
   "cell_type": "code",
   "execution_count": 159,
   "metadata": {},
   "outputs": [],
   "source": [
    "# import packages \n",
    "from tqdm.notebook import tqdm\n",
    "import matplotlib.pyplot as plt\n",
    "from sklearn.model_selection import train_test_split\n",
    "import pdb\n",
    "import numpy as np\n",
    "import pandas as pd \n",
    "import os"
   ]
  },
  {
   "cell_type": "code",
   "execution_count": 160,
   "metadata": {},
   "outputs": [],
   "source": [
    "df = pd.read_csv('breast_cancer.csv')"
   ]
  },
  {
   "cell_type": "code",
   "execution_count": 161,
   "metadata": {},
   "outputs": [],
   "source": [
    "\"\"\" data preparation \"\"\"\n",
    "# read csv file \n",
    "df = pd.read_csv('breast_cancer.csv')  # df denotes a data frame \n",
    "\n",
    "# extract the 'diagnosis' column as your targets \n",
    "targets = df['diagnosis']\n",
    "\n",
    "# convert the entries of targets to 0/1 \n",
    "targets = np.where(targets=='M', 0, 1)\n",
    "     \n",
    "# extract your features data\n",
    "features = [column for column in df.columns if column not in ['id', 'diagnosis']]\n",
    "data = np.array(df.loc[:, features].values)\n",
    "\n",
    "# train/test split \n",
    "X_train, X_test, y_train, y_test = train_test_split(data, targets, test_size=0.3, random_state=40)"
   ]
  },
  {
   "cell_type": "markdown",
   "metadata": {},
   "source": [
    "<br>"
   ]
  },
  {
   "cell_type": "markdown",
   "metadata": {},
   "source": [
    "#### Problem 3.1\n",
    "* #### __Important :__  You are not allowed to use built-in LDA functions from the sklearn package. "
   ]
  },
  {
   "cell_type": "code",
   "execution_count": 174,
   "metadata": {},
   "outputs": [],
   "source": [
    "class LDA:\n",
    "    def _init_(self):\n",
    "        pass\n",
    "    \n",
    "    def fit(self, X: np.array, y: np.array):\n",
    "        #pdb.set_trace()\n",
    "        \n",
    "        X, y = np.array(X), np.array(y)\n",
    "                \n",
    "        c0, c1 = np.where(y==0, True, False), np.where(y==1, True, False)\n",
    "        \n",
    "        X0, X1 = X[c0, :], X[c1, :]\n",
    "        y0, y1 = y[c0].reshape(1, -1)[0], y[c1].reshape(1, -1)[0]\n",
    "        \n",
    "        #Calculating priors\n",
    "        self.pi0 =  X0.shape[0] / X.shape[0]\n",
    "        self.pi1 =  X1.shape[0] / X.shape[0]\n",
    "        \n",
    "        #Calculating mean vectors\n",
    "        self.M0, self.M1 = np.mean(X0, axis=0), np.mean(X1, axis=0)\n",
    "        \n",
    "        #Calculting common Covariance Matrix\n",
    "        cov0 = np.dot((X0 - self.M0).T, (X0 - self.M0))\n",
    "        cov1 = np.dot((X1 - self.M1).T, (X1 - self.M1))\n",
    "        self.cov_total  = (cov0 + cov1)/(X.shape[0]-X.shape[1])\n",
    "        \n",
    "        self.cov_inv = np.linalg.inv(self.cov_total)\n",
    "    \n",
    "    def delta(self, X: np.array, mean_vector: np.array, prior: float):\n",
    "        '''Delta calculation for different classes'''\n",
    "        delta = (np.dot(np.dot(X, self.cov_inv), mean_vector) - \n",
    "                 0.5 * np.dot(np.dot(mean_vector, self.cov_inv), mean_vector) + \n",
    "                 np.log(prior))\n",
    "        return   delta\n",
    "    \n",
    "    def predict(self, X: np.array):\n",
    "        #pdb.set_trace()\n",
    "        X = np.array(X)\n",
    "        \n",
    "        #Calculate deltas\n",
    "        D0  = self.delta(X, self.M0, self.pi0)\n",
    "        D1  = self.delta(X, self.M1, self.pi1)\n",
    "        \n",
    "        y_hat = np.argmax(np.column_stack((D0, D1)), axis=1)\n",
    "        \n",
    "        return y_hat"
   ]
  },
  {
   "cell_type": "markdown",
   "metadata": {},
   "source": [
    "<br>"
   ]
  },
  {
   "cell_type": "markdown",
   "metadata": {},
   "source": [
    "**Fitting the Class to the Data**"
   ]
  },
  {
   "cell_type": "code",
   "execution_count": 172,
   "metadata": {},
   "outputs": [],
   "source": [
    "L = LDA()\n",
    "L.fit(X_train, y_train)"
   ]
  },
  {
   "cell_type": "markdown",
   "metadata": {},
   "source": [
    "<br>"
   ]
  },
  {
   "cell_type": "markdown",
   "metadata": {},
   "source": [
    "**Measuring Loss and Accuracy**"
   ]
  },
  {
   "cell_type": "markdown",
   "metadata": {},
   "source": [
    "Accuracy"
   ]
  },
  {
   "cell_type": "code",
   "execution_count": 179,
   "metadata": {},
   "outputs": [
    {
     "name": "stdout",
     "output_type": "stream",
     "text": [
      "Train Accuracy: 92.46% \n",
      "Test Accuracy: 95.32%\n"
     ]
    }
   ],
   "source": [
    "# Accuracy Calculation\n",
    "train_accuracy = (sum(L.predict(X_train) == y_train)/len(y_train)*100).round(2)\n",
    "test_accuracy = (sum(L.predict(X_test) == y_test)/len(y_test)*100).round(2)\n",
    "print(f'Train Accuracy: {train_accuracy}% \\nTest Accuracy: {test_accuracy}%')"
   ]
  },
  {
   "cell_type": "markdown",
   "metadata": {},
   "source": [
    "<br>We will use the 0-1 Loss Function:"
   ]
  },
  {
   "cell_type": "markdown",
   "metadata": {},
   "source": [
    "$\\mathcal{L}(y, f(x)) \\rightarrow I(y \\neq \\phi(x))$"
   ]
  },
  {
   "cell_type": "code",
   "execution_count": 194,
   "metadata": {},
   "outputs": [
    {
     "name": "stdout",
     "output_type": "stream",
     "text": [
      "Train Loss: 30 \n",
      "Test Loss: 8\n"
     ]
    }
   ],
   "source": [
    "#Loss Function\n",
    "train_loss = sum(L.predict(X_train) != y_train)\n",
    "test_loss = sum(L.predict(X_test) != y_test)\n",
    "print(f'Train Loss: {train_loss} \\nTest Loss: {test_loss}')"
   ]
  },
  {
   "cell_type": "markdown",
   "metadata": {},
   "source": [
    "<br>"
   ]
  },
  {
   "cell_type": "markdown",
   "metadata": {},
   "source": [
    "#### Problem 3.2"
   ]
  },
  {
   "cell_type": "code",
   "execution_count": 15,
   "metadata": {},
   "outputs": [
    {
     "data": {
      "text/plain": [
       "<torch._C.Generator at 0x25358070df0>"
      ]
     },
     "execution_count": 15,
     "metadata": {},
     "output_type": "execute_result"
    }
   ],
   "source": [
    "torch.manual_seed(7)"
   ]
  },
  {
   "cell_type": "markdown",
   "metadata": {},
   "source": [
    "<br>"
   ]
  },
  {
   "cell_type": "markdown",
   "metadata": {},
   "source": [
    "**Importing Torch Packages**"
   ]
  },
  {
   "cell_type": "code",
   "execution_count": 4,
   "metadata": {},
   "outputs": [],
   "source": [
    "# Torch packages\n",
    "import torch\n",
    "from torch.autograd import Variable\n",
    "import torch.nn as nn\n",
    "import torch.nn.functional as F"
   ]
  },
  {
   "cell_type": "markdown",
   "metadata": {},
   "source": [
    "<BR>"
   ]
  },
  {
   "cell_type": "markdown",
   "metadata": {},
   "source": [
    "**Logistic Regression Class**"
   ]
  },
  {
   "cell_type": "code",
   "execution_count": 139,
   "metadata": {},
   "outputs": [],
   "source": [
    "class LogisticRegression(nn.Module):\n",
    "    def __init__(self):\n",
    "        super().__init__()\n",
    "        self.fc1 = nn.Linear(12,1)\n",
    "    def forward(self, x):\n",
    "        x = torch.sigmoid(self.fc1(x))\n",
    "        return x"
   ]
  },
  {
   "cell_type": "code",
   "execution_count": 140,
   "metadata": {},
   "outputs": [],
   "source": [
    "# Initializing Logistic Regression\n",
    "model = LogisticRegression()"
   ]
  },
  {
   "cell_type": "code",
   "execution_count": 141,
   "metadata": {},
   "outputs": [],
   "source": [
    "# Choosing Loss Function\n",
    "criterion = nn.BCELoss()"
   ]
  },
  {
   "cell_type": "code",
   "execution_count": 142,
   "metadata": {},
   "outputs": [],
   "source": [
    "# Choosing Optimizer\n",
    "optimizer = torch.optim.SGD(model.parameters(), lr=0.001)"
   ]
  },
  {
   "cell_type": "markdown",
   "metadata": {},
   "source": [
    "<br>"
   ]
  },
  {
   "cell_type": "markdown",
   "metadata": {},
   "source": [
    "**Training Logistic Regression**"
   ]
  },
  {
   "cell_type": "code",
   "execution_count": 5,
   "metadata": {},
   "outputs": [],
   "source": [
    "X_train, y_train = torch.from_numpy(X_train).float(), torch.from_numpy(y_train).float()\n",
    "X_test, y_test = torch.from_numpy(X_test), torch.from_numpy(y_test)"
   ]
  },
  {
   "cell_type": "code",
   "execution_count": 26,
   "metadata": {},
   "outputs": [],
   "source": [
    "def accuracy(network_prediction, actual_values):\n",
    "    #pdb.set_trace()\n",
    "    accuracy = torch.sum(network_prediction == actual_values).item()/len(network_prediction)\n",
    "    return accuracy"
   ]
  },
  {
   "cell_type": "code",
   "execution_count": 145,
   "metadata": {},
   "outputs": [
    {
     "data": {
      "application/vnd.jupyter.widget-view+json": {
       "model_id": "a6b72fdb881049e1ad8f13de0217c1e5",
       "version_major": 2,
       "version_minor": 0
      },
      "text/plain": [
       "HBox(children=(FloatProgress(value=0.0, max=250.0), HTML(value='')))"
      ]
     },
     "metadata": {},
     "output_type": "display_data"
    },
    {
     "name": "stdout",
     "output_type": "stream",
     "text": [
      "\n"
     ]
    }
   ],
   "source": [
    "LR_train_accuracy = []\n",
    "LR_train_losses = []\n",
    "LR_test_accuracy = []\n",
    "LR_test_losses = []\n",
    "\n",
    "for i in tqdm(range(250)):\n",
    "    with torch.no_grad():   \n",
    "        # Propagating X_test forward\n",
    "        y_hat_test = model(X_test.float())\n",
    "        \n",
    "        # Calculating and appending Cross Entropy Loss\n",
    "        loss_test = criterion(y_hat_test, y_test.reshape(-1, 1).float())\n",
    "        LR_test_losses.append(loss_test.item())\n",
    "    \n",
    "        # Calculating and appending accuracy\n",
    "        test_result = y_hat_test.round()\n",
    "        LR_test_accuracy.append(accuracy(test_result.reshape(-1,), y_test.reshape(-1,)))\n",
    "      \n",
    "    # Calculating Accuracy and Cross-Entropy on Train set\n",
    "    optimizer.zero_grad()\n",
    "    \n",
    "    # Propagating X_train forward\n",
    "    y_hat = model(X_train.float())\n",
    "    \n",
    "    loss_train = criterion(y_hat, y_train.reshape(-1, 1).float())\n",
    "    LR_train_losses.append(loss_train.item())\n",
    "    loss_train.backward()\n",
    "    \n",
    "    train_result = y_hat.round()\n",
    "    LR_train_accuracy.append(accuracy(train_result.reshape(-1,), y_train.reshape(-1,)))\n",
    "    \n",
    "    optimizer.step()"
   ]
  },
  {
   "cell_type": "markdown",
   "metadata": {},
   "source": [
    "<br>"
   ]
  },
  {
   "cell_type": "markdown",
   "metadata": {},
   "source": [
    "**Plotting the Results**"
   ]
  },
  {
   "cell_type": "code",
   "execution_count": 146,
   "metadata": {},
   "outputs": [
    {
     "data": {
      "text/plain": [
       "[]"
      ]
     },
     "execution_count": 146,
     "metadata": {},
     "output_type": "execute_result"
    },
    {
     "data": {
      "image/png": "[encoded data removed]",
      "text/plain": [
       "<Figure size 1440x432 with 2 Axes>"
      ]
     },
     "metadata": {
      "needs_background": "light"
     },
     "output_type": "display_data"
    }
   ],
   "source": [
    "fig, axes = plt.subplots(ncols=2, figsize=(20, 6))\n",
    "\n",
    "#Plotting accuracies\n",
    "axes[0].plot(LR_train_losses, color='#000E43', label = 'train')\n",
    "axes[0].plot(LR_test_losses, color='#22906F', label = 'test')\n",
    "axes[0].set_title(\"Test & Train Loss per Epoch\")\n",
    "axes[0].set_xlabel(\"Epoch\")\n",
    "axes[0].set_ylabel(\"Loss\")\n",
    "axes[0].legend()\n",
    "axes[0].plot()\n",
    "\n",
    "#Plotting loss\n",
    "axes[1].plot(LR_train_accuracy, color='#000E43', label = 'train')\n",
    "axes[1].plot(LR_test_accuracy, color='#22906F', label = 'test')\n",
    "axes[1].set_title(\"Test & Train Accuracy per Epoch\")\n",
    "axes[1].set_xlabel(\"Epoch\")\n",
    "axes[1].set_ylabel(\"Accuracy\")\n",
    "axes[1].legend()\n",
    "axes[1].plot()"
   ]
  },
  {
   "cell_type": "markdown",
   "metadata": {},
   "source": [
    "<br>"
   ]
  },
  {
   "cell_type": "markdown",
   "metadata": {},
   "source": [
    "### Problem 4: Binary Classification with Neural Networks"
   ]
  },
  {
   "cell_type": "markdown",
   "metadata": {},
   "source": [
    "#### 4.2 A Neural Network Class"
   ]
  },
  {
   "cell_type": "markdown",
   "metadata": {},
   "source": [
    "**Creating Network**"
   ]
  },
  {
   "cell_type": "code",
   "execution_count": 101,
   "metadata": {},
   "outputs": [
    {
     "data": {
      "text/plain": [
       "<torch._C.Generator at 0x135e34d5e30>"
      ]
     },
     "execution_count": 101,
     "metadata": {},
     "output_type": "execute_result"
    }
   ],
   "source": [
    "torch.manual_seed(1)"
   ]
  },
  {
   "cell_type": "code",
   "execution_count": 102,
   "metadata": {},
   "outputs": [],
   "source": [
    "class Net(nn.Module):\n",
    "    def __init__(self):\n",
    "        super().__init__()\n",
    "        self.initial = nn.Linear(12, 16)\n",
    "        self.hidden_1 = nn.Linear(16, 16)\n",
    "        self.hidden_2 = nn.Linear(16, 16)\n",
    "        self.output = nn.Linear(16, 2)\n",
    "    \n",
    "    def forward(self, x):\n",
    "        x = torch.relu(self.initial(x))\n",
    "        x = torch.relu(self.hidden_1(x))\n",
    "        x = torch.relu(self.hidden_2(x))\n",
    "        x = torch.sigmoid(self.output(x))\n",
    "        return x"
   ]
  },
  {
   "cell_type": "code",
   "execution_count": 103,
   "metadata": {},
   "outputs": [],
   "source": [
    "# Initializing the Neural Network\n",
    "network = Net()"
   ]
  },
  {
   "cell_type": "code",
   "execution_count": 104,
   "metadata": {},
   "outputs": [],
   "source": [
    "# Choosing Loss Function\n",
    "criterion = nn.CrossEntropyLoss()"
   ]
  },
  {
   "cell_type": "code",
   "execution_count": 105,
   "metadata": {},
   "outputs": [],
   "source": [
    "# Choosing optimizer\n",
    "optimizer = torch.optim.SGD(network.parameters(), lr = 0.005)"
   ]
  },
  {
   "cell_type": "markdown",
   "metadata": {},
   "source": [
    "<br>"
   ]
  },
  {
   "cell_type": "markdown",
   "metadata": {},
   "source": [
    "**Training the Network**"
   ]
  },
  {
   "cell_type": "code",
   "execution_count": 106,
   "metadata": {},
   "outputs": [
    {
     "data": {
      "application/vnd.jupyter.widget-view+json": {
       "model_id": "88a47dfe41df4aa6b6f39b4da560ab7f",
       "version_major": 2,
       "version_minor": 0
      },
      "text/plain": [
       "HBox(children=(FloatProgress(value=0.0, max=14000.0), HTML(value='')))"
      ]
     },
     "metadata": {},
     "output_type": "display_data"
    },
    {
     "name": "stdout",
     "output_type": "stream",
     "text": [
      "\n"
     ]
    }
   ],
   "source": [
    "train_accuracy = []\n",
    "train_losses = []\n",
    "test_accuracy = []\n",
    "test_losses = []\n",
    "\n",
    "for i in tqdm(range(14000)):\n",
    "    #with torch.no_grad():   \n",
    "    # Propagating X_test forward\n",
    "    predictions = network(X_test.float())\n",
    "    \n",
    "    # Calculating and appending Cross Entropy Loss\n",
    "    loss = criterion(predictions, y_test.long())\n",
    "    test_losses.append(loss.item())\n",
    "    \n",
    "    # Calculating and appending accuracy\n",
    "    test_result = torch.argmax(predictions, dim=1)\n",
    "    test_accuracy.append(accuracy(test_result, y_test))\n",
    "      \n",
    "    # Calculating Accuracy and Cross-Entropy on Train set\n",
    "    optimizer.zero_grad()\n",
    "    \n",
    "    # Propagating X_train forward\n",
    "    y_hat = network(X_train.float())\n",
    "    \n",
    "    loss_train = criterion(y_hat, y_train.long())\n",
    "    train_losses.append(loss_train.item())\n",
    "    loss_train.backward()\n",
    "    \n",
    "    train_result = torch.argmax(y_hat, dim=1)\n",
    "    train_accuracy.append(accuracy(train_result, y_train))\n",
    "    \n",
    "    optimizer.step()"
   ]
  },
  {
   "cell_type": "code",
   "execution_count": 107,
   "metadata": {},
   "outputs": [
    {
     "data": {
      "text/plain": [
       "[]"
      ]
     },
     "execution_count": 107,
     "metadata": {},
     "output_type": "execute_result"
    },
    {
     "data": {
      "image/png": "[encoded data removed]",
      "text/plain": [
       "<Figure size 1440x432 with 2 Axes>"
      ]
     },
     "metadata": {
      "needs_background": "light"
     },
     "output_type": "display_data"
    }
   ],
   "source": [
    "fig, axes = plt.subplots(ncols=2, figsize=(20, 6))\n",
    "\n",
    "#Plotting accuracies\n",
    "axes[0].plot(train_losses, color='#000E43', label = 'train')\n",
    "axes[0].plot(test_losses, color='#22906F', label = 'test')\n",
    "axes[0].set_title(\"Test & Train Loss per Epoch\")\n",
    "axes[0].set_xlabel(\"Epoch\")\n",
    "axes[0].set_ylabel(\"Loss\")\n",
    "axes[0].legend()\n",
    "axes[0].plot()\n",
    "\n",
    "#Plotting loss\n",
    "axes[1].plot(train_accuracy, color='#000E43', label = 'train')\n",
    "axes[1].plot(test_accuracy, color='#22906F', label = 'test')\n",
    "axes[1].set_title(\"Test & Train Accuracy per Epoch\")\n",
    "axes[1].set_xlabel(\"Epoch\")\n",
    "axes[1].set_ylabel(\"Accuracy\")\n",
    "axes[1].legend()\n",
    "axes[1].plot()"
   ]
  },
  {
   "cell_type": "markdown",
   "metadata": {},
   "source": [
    "<br>"
   ]
  },
  {
   "cell_type": "markdown",
   "metadata": {},
   "source": [
    "#### 4.2 B Neural Network Architecture"
   ]
  },
  {
   "cell_type": "code",
   "execution_count": 175,
   "metadata": {},
   "outputs": [],
   "source": [
    "class MultipleNet(nn.Module):\n",
    "    def __init__(self, input_size, N, M, output_size):\n",
    "        super(MultipleNet, self).__init__()\n",
    "        \n",
    "        #Input Layer\n",
    "        self.initial = nn.Linear(input_size, M, bias = False)\n",
    "        \n",
    "        #Flexible number of Layers\n",
    "        self.hidden = nn.ModuleList([])\n",
    "        self.hidden.extend([nn.Linear(M, M, bias = False) for n in range(N)])\n",
    "        \n",
    "        #Output Layer\n",
    "        self.output = nn.Linear(M, output_size, bias = False)\n",
    "        \n",
    "    def forward(self, x):\n",
    "        x = torch.relu(self.initial(x))\n",
    "        \n",
    "        #Propagating forward through flexible architecture\n",
    "        h = x\n",
    "        for i in range(len(self.hidden)):\n",
    "            h = self.hidden[i](h)\n",
    "            h = torch.relu(h)\n",
    "        \n",
    "        x = torch.sigmoid(self.output(h))\n",
    "        \n",
    "        return x "
   ]
  },
  {
   "cell_type": "code",
   "execution_count": 149,
   "metadata": {},
   "outputs": [
    {
     "name": "stdout",
     "output_type": "stream",
     "text": [
      "MultipleNet(\n",
      "  (initial): Linear(in_features=12, out_features=2, bias=True)\n",
      "  (hidden): ModuleList(\n",
      "    (0): Linear(in_features=2, out_features=2, bias=True)\n",
      "    (1): Linear(in_features=2, out_features=2, bias=True)\n",
      "  )\n",
      "  (output): Linear(in_features=2, out_features=2, bias=True)\n",
      ")\n"
     ]
    }
   ],
   "source": [
    "# Testing MLP Architecture\n",
    "MN = MultipleNet(12, 2, 2, 2)\n",
    "print(MN)"
   ]
  },
  {
   "cell_type": "markdown",
   "metadata": {},
   "source": [
    "<br>"
   ]
  },
  {
   "cell_type": "markdown",
   "metadata": {},
   "source": [
    "**Create Initialization Function**"
   ]
  },
  {
   "cell_type": "code",
   "execution_count": 150,
   "metadata": {},
   "outputs": [],
   "source": [
    "def initialize_net(input_layer:int, N:int, M:int, output_layer:int):\n",
    "    #Initialize all Neural Net Objects\n",
    "    Multiple_Net = MultipleNet(input_layer, N, M, output_layer)\n",
    "    criterion=nn.CrossEntropyLoss()\n",
    "    optimizer=torch.optim.Adam(Multiple_Net.parameters(), lr=0.005)\n",
    "    return Multiple_Net, criterion, optimizer"
   ]
  },
  {
   "cell_type": "markdown",
   "metadata": {},
   "source": [
    "<br>"
   ]
  },
  {
   "cell_type": "markdown",
   "metadata": {},
   "source": [
    "**Create Train Function**"
   ]
  },
  {
   "cell_type": "code",
   "execution_count": 151,
   "metadata": {},
   "outputs": [],
   "source": [
    "def train_net(Multiple_Net, criterion, optimizer, loops: int):\n",
    "    for i in range(loops):\n",
    "        optimizer.zero_grad()\n",
    "        \n",
    "        # Propagating X_train forward\n",
    "        y_hat = Multiple_Net(X_train.float())\n",
    "        \n",
    "        loss = criterion(y_hat, y_train.long())\n",
    "        loss.backward()\n",
    "        \n",
    "        optimizer.step() "
   ]
  },
  {
   "cell_type": "markdown",
   "metadata": {},
   "source": [
    "<br>"
   ]
  },
  {
   "cell_type": "markdown",
   "metadata": {},
   "source": [
    "**Create Test Function**"
   ]
  },
  {
   "cell_type": "code",
   "execution_count": 152,
   "metadata": {},
   "outputs": [],
   "source": [
    "def test_network(Multiple_Net, criterion):\n",
    "    with torch.no_grad():\n",
    "        # Load model\n",
    "        Multiple_Net.eval()\n",
    "    \n",
    "        # Propagate the network forward\n",
    "        y_hat = Multiple_Net(X_test.float())\n",
    "        loss = criterion(y_hat, y_test.long())\n",
    "    \n",
    "        # Get predictions\n",
    "        predictions = torch.argmax(y_hat, dim=1)\n",
    "        \n",
    "        return predictions"
   ]
  },
  {
   "cell_type": "markdown",
   "metadata": {},
   "source": [
    "<br>"
   ]
  },
  {
   "cell_type": "markdown",
   "metadata": {},
   "source": [
    "**Chaining Operations**"
   ]
  },
  {
   "cell_type": "code",
   "execution_count": 153,
   "metadata": {},
   "outputs": [],
   "source": [
    "N = [1, 2, 3, 4, 5, 6, 7, 8]\n",
    "M = [2, 4, 8, 16, 32, 64, 128]\n",
    "accuracy_matrix = np.zeros((len(M), len(N)))"
   ]
  },
  {
   "cell_type": "code",
   "execution_count": 154,
   "metadata": {},
   "outputs": [],
   "source": [
    "for i, n in enumerate(N):\n",
    "    for j, m in enumerate(M):\n",
    "        # Initializing Neural Net Object for (M, N)\n",
    "        Multiple_Net, criterion, optimizer = initialize_net(12, n, m, 2)\n",
    "        \n",
    "        # Training (M, N) Network\n",
    "        train_net(Multiple_Net, criterion, optimizer, 1000)\n",
    "        \n",
    "        loss.register_hook(lambda grad: print(grad))\n",
    "        \n",
    "        # Testing (M, N) Network and retrieving results\n",
    "        accuracy_matrix[j, i] = accuracy(test_network(Multiple_Net, criterion), y_test.long())"
   ]
  },
  {
   "cell_type": "markdown",
   "metadata": {},
   "source": [
    "<br>"
   ]
  },
  {
   "cell_type": "markdown",
   "metadata": {},
   "source": [
    "**Plotting the Results**"
   ]
  },
  {
   "cell_type": "code",
   "execution_count": 155,
   "metadata": {},
   "outputs": [],
   "source": [
    "from matplotlib.colors import ListedColormap\n",
    "colormap = ListedColormap(['#66B57D','#44A373', '#22906F', '#007D6F',\n",
    "                           '#00646F','#004261', '#002552', '#000E43'])"
   ]
  },
  {
   "cell_type": "code",
   "execution_count": 156,
   "metadata": {},
   "outputs": [
    {
     "data": {
      "image/png": "[encoded data removed]",
      "text/plain": [
       "<Figure size 1152x576 with 1 Axes>"
      ]
     },
     "metadata": {
      "needs_background": "light"
     },
     "output_type": "display_data"
    }
   ],
   "source": [
    "fig, ax = plt.subplots(figsize=(16,8))\n",
    "\n",
    "plt.imshow(accuracy_matrix.round(2), cmap=colormap, interpolation='nearest')\n",
    "\n",
    "ax.set_xticks(np.arange(len(N)))\n",
    "ax.set_yticks(np.arange(len(M)))\n",
    "\n",
    "ax.set_xticklabels(N)\n",
    "ax.set_yticklabels(M)\n",
    "\n",
    "# Rotate the tick labels and set their alignment.\n",
    "plt.setp(ax.get_xticklabels(), rotation=45, ha=\"right\",\n",
    "         rotation_mode=\"anchor\")\n",
    "\n",
    "# Loop over data dimensions and create text annotations.\n",
    "for i in range(len(M)):\n",
    "    for j in range(len(N)):\n",
    "        text = ax.text(j, i, accuracy_matrix[i, j].round(2),\n",
    "                       ha=\"center\", va=\"center\", color=\"w\")\n",
    "\n",
    "ax.set_title(\"Hidden Layers x Neurons: Accuracy Heatmap\")\n",
    "ax.set_xlabel('Number of Hidden Layers')\n",
    "ax.set_ylabel('Number of Neurons per Layer')\n",
    "plt.show()\n",
    "#ax.colorbar()\n",
    "plt.show()"
   ]
  },
  {
   "cell_type": "markdown",
   "metadata": {},
   "source": [
    "- In some cases the Network seems to get stuck in local minima with a low accuracy score of 67%.\n",
    "- In general it seems that having more hidden layers is positive, as long as there is a large enough value of neurons per layer.\n",
    "- The worst results are found for small numbers of neurons per layer and for a small number of hidden layers. "
   ]
  },
  {
   "cell_type": "markdown",
   "metadata": {},
   "source": [
    "<br>"
   ]
  },
  {
   "cell_type": "markdown",
   "metadata": {},
   "source": [
    "#### Problem 4.3\n",
    "* #### __Important :__  Here, you are not allowed to use the Optim package. "
   ]
  },
  {
   "cell_type": "code",
   "execution_count": 103,
   "metadata": {},
   "outputs": [
    {
     "data": {
      "text/plain": [
       "<torch._C.Generator at 0x21d3eb1a050>"
      ]
     },
     "execution_count": 103,
     "metadata": {},
     "output_type": "execute_result"
    }
   ],
   "source": [
    "torch.manual_seed(42)"
   ]
  },
  {
   "cell_type": "markdown",
   "metadata": {},
   "source": [
    "**Neural Network Class Definition**"
   ]
  },
  {
   "cell_type": "code",
   "execution_count": 104,
   "metadata": {},
   "outputs": [],
   "source": [
    "class ManualNet:\n",
    "    def __init__(self, lr):\n",
    "        super().__init__()\n",
    "        self.lr = lr\n",
    "        self.initial = nn.Linear(12, 16)\n",
    "        self.hidden1 = nn.Linear(16, 16)\n",
    "        self.hidden2 = nn.Linear(16, 16)\n",
    "        self.output  = nn.Linear(16, 1)\n",
    "    \n",
    "    def forward(self, x):\n",
    "        L1  = self.initial(x)\n",
    "        Z1  = torch.relu(L1)\n",
    "        L2  = self.hidden1(Z1)\n",
    "        Z2  = torch.relu(L2)\n",
    "        L3  = self.hidden2(Z2)\n",
    "        Z3  = torch.relu(L3)\n",
    "        L4  = self.output(Z3)\n",
    "        OUT = torch.sigmoid(L4)\n",
    "        return L1, Z1, L2, Z2, L3, Z3, L4, OUT\n",
    "    \n",
    "    def backpropagate(self, X, Y):\n",
    "        \n",
    "        L1, Z1, L2, Z2, L3, Z3, L4, OUT = self.forward(X)\n",
    "        \n",
    "        with torch.no_grad():\n",
    "            W2, W3, W4 = self.hidden1.weight, self.hidden2.weight, self.output.weight\n",
    "            \n",
    "            E     = OUT - Y.reshape(-1, 1)\n",
    "            D4    = torch.matmul(Z3.T, E)\n",
    "            G3    = torch.matmul(E, W4)\n",
    "            R3    = torch.where(L3>=0, G3, torch.zeros(G3.shape))\n",
    "            D3    = torch.matmul(Z2.T, R3)\n",
    "            G2    = torch.matmul(R3, W3)\n",
    "            R2    = torch.where(L2>=0, G2, torch.zeros(G2.shape))\n",
    "            D2    = torch.matmul(Z1.T, R2)\n",
    "            G1    = torch.matmul(R2, W2)\n",
    "            R1    = torch.where(L1>=0, G1, torch.zeros(G1.shape))\n",
    "            D1    = torch.matmul(X.T, R1)\n",
    "            \n",
    "            #pdb.set_trace()\n",
    "            self.initial.weight -= self.lr * D1.T\n",
    "            self.hidden1.weight -= self.lr * D2.T\n",
    "            self.hidden2.weight -= self.lr * D3.T\n",
    "            self.output.weight -= self.lr * D4.T\n",
    "            \n",
    "            return OUT"
   ]
  },
  {
   "cell_type": "code",
   "execution_count": 105,
   "metadata": {},
   "outputs": [],
   "source": [
    "# Initializing Loss Function and Manual Neural Net\n",
    "manual_net = ManualNet(lr = 0.00001)\n",
    "criterion = nn.BCELoss()"
   ]
  },
  {
   "cell_type": "code",
   "execution_count": 108,
   "metadata": {},
   "outputs": [
    {
     "data": {
      "application/vnd.jupyter.widget-view+json": {
       "model_id": "5bb0f1adefc64b4d9605cb90a6def745",
       "version_major": 2,
       "version_minor": 0
      },
      "text/plain": [
       "HBox(children=(FloatProgress(value=0.0, max=4000.0), HTML(value='')))"
      ]
     },
     "metadata": {},
     "output_type": "display_data"
    },
    {
     "name": "stdout",
     "output_type": "stream",
     "text": [
      "\n"
     ]
    }
   ],
   "source": [
    "manual_train_accuracy = []\n",
    "manual_train_losses = []\n",
    "manual_test_accuracy = []\n",
    "manual_test_losses = []\n",
    "\n",
    "for i in tqdm(range(4000)):\n",
    "    #Test\n",
    "    #pdb.set_trace()\n",
    "    with torch.no_grad():\n",
    "        predictions = manual_net.forward(X_test.float())[-1]\n",
    "    \n",
    "        loss = criterion(predictions.squeeze(), y_test.float())\n",
    "        manual_test_losses.append(loss.item())\n",
    "    \n",
    "        manual_test_accuracy.append(accuracy(predictions.round().reshape(-1,), y_test.reshape(-1,)))\n",
    "    \n",
    "    #Train\n",
    "    y_hat = manual_net.backpropagate(X_train, y_train)\n",
    "    \n",
    "    loss = criterion(y_hat.squeeze(), y_train)\n",
    "    manual_train_losses.append(loss.item())\n",
    "    \n",
    "    manual_train_accuracy.append(accuracy(y_hat.round().reshape(-1,), y_train.reshape(-1,)))"
   ]
  },
  {
   "cell_type": "markdown",
   "metadata": {},
   "source": [
    "**Plotting the Results of the Manual Neural Network**"
   ]
  },
  {
   "cell_type": "code",
   "execution_count": 109,
   "metadata": {},
   "outputs": [
    {
     "data": {
      "text/plain": [
       "[]"
      ]
     },
     "execution_count": 109,
     "metadata": {},
     "output_type": "execute_result"
    },
    {
     "data": {
      "image/png": "[encoded data removed]",
      "text/plain": [
       "<Figure size 1440x432 with 2 Axes>"
      ]
     },
     "metadata": {
      "needs_background": "light"
     },
     "output_type": "display_data"
    }
   ],
   "source": [
    "fig, axes = plt.subplots(ncols=2, figsize=(20, 6))\n",
    "\n",
    "#Plotting accuracies\n",
    "axes[0].plot(manual_train_losses, color='#000E43', label = 'train')\n",
    "axes[0].plot(manual_test_losses, color='#22906F', label = 'test')\n",
    "axes[0].set_title(\"Test & Train Loss per Epoch\")\n",
    "axes[0].set_xlabel(\"Epoch\")\n",
    "axes[0].set_ylabel(\"Loss\")\n",
    "axes[0].legend()\n",
    "axes[0].plot()\n",
    "\n",
    "#Plotting loss\n",
    "axes[1].plot(manual_train_accuracy, color='#000E43', label = 'train')\n",
    "axes[1].plot(manual_test_accuracy, color='#22906F', label = 'test')\n",
    "axes[1].set_title(\"Test & Train Accuracy per Epoch\")\n",
    "axes[1].set_xlabel(\"Epoch\")\n",
    "axes[1].set_ylabel(\"Accuracy\")\n",
    "axes[1].legend()\n",
    "axes[1].plot()"
   ]
  },
  {
   "cell_type": "markdown",
   "metadata": {},
   "source": [
    "<br>"
   ]
  },
  {
   "cell_type": "markdown",
   "metadata": {},
   "source": [
    "### Problem 5: First order optimization methods"
   ]
  },
  {
   "cell_type": "code",
   "execution_count": 5,
   "metadata": {
    "collapsed": true,
    "jupyter": {
     "outputs_hidden": true
    }
   },
   "outputs": [
    {
     "data": {
      "text/plain": [
       "'\\nThe data features can be extracted as train_dataset/test_dataset.data\\nThe labels can be extracted as train_dataset/test_dataset.targets \\nNote that the data are 28x28 images which you will have to transform to vectors.  \\n'"
      ]
     },
     "execution_count": 5,
     "metadata": {},
     "output_type": "execute_result"
    }
   ],
   "source": [
    "import torch\n",
    "import torchvision.datasets as dsets\n",
    "import torchvision.transforms as transforms\n",
    "\n",
    "# Download and prepare the MNIST data set \n",
    "train_dataset = dsets.MNIST(root='./data', train=True, transform=transforms.ToTensor(), download=True)\n",
    "test_dataset = dsets.MNIST(root='./data', train=False, transform=transforms.ToTensor())\n",
    "\n",
    "\"\"\"\n",
    "The data features can be extracted as train_dataset/test_dataset.data\n",
    "The labels can be extracted as train_dataset/test_dataset.targets \n",
    "Note that the data are 28x28 images which you will have to transform to vectors.  \n",
    "\"\"\""
   ]
  },
  {
   "cell_type": "markdown",
   "metadata": {},
   "source": [
    "<br>"
   ]
  },
  {
   "cell_type": "markdown",
   "metadata": {},
   "source": [
    "**Initializing Hyperparameters**"
   ]
  },
  {
   "cell_type": "code",
   "execution_count": 147,
   "metadata": {},
   "outputs": [],
   "source": [
    "learning_rate = 0.001\n",
    "batch_sizes   = [1, 500, 60000]\n",
    "lambda_list   = [0.01, 0.1, 1]\n",
    "i = 0"
   ]
  },
  {
   "cell_type": "markdown",
   "metadata": {},
   "source": [
    "<br>"
   ]
  },
  {
   "cell_type": "markdown",
   "metadata": {},
   "source": [
    "**Optimization Algorithm Classes**"
   ]
  },
  {
   "cell_type": "code",
   "execution_count": 95,
   "metadata": {},
   "outputs": [],
   "source": [
    "#Momentum Network Class\n",
    "class MomentumNetwork(nn.Module):\n",
    "    def __init__(self):\n",
    "        super(MomentumNetwork, self).__init__()\n",
    "        self.layer = nn.Linear(28*28, 10)\n",
    "        self.momentum      = 0\n",
    "        self.beta          = 0.9\n",
    "        \n",
    "    def forward(self, x):\n",
    "        x = self.layer(x)\n",
    "        return x\n",
    "    \n",
    "    def step(self, gradient, learning_rate):\n",
    "        with torch.no_grad():\n",
    "            self.momentum = self.beta * self.momentum + gradient\n",
    "            self.layer.weight -= learning_rate * self.momentum"
   ]
  },
  {
   "cell_type": "code",
   "execution_count": 84,
   "metadata": {},
   "outputs": [],
   "source": [
    "#Nesterov's Accelerated Gradient\n",
    "class NesterovNetwork(nn.Module):\n",
    "    def __init__(self):\n",
    "        super(NesterovNetwork, self).__init__()\n",
    "        self.layer = nn.Linear(28*28, 10)\n",
    "        self.beta  = 100\n",
    "        self.ln    = 0\n",
    "        self.t     = 0\n",
    "        \n",
    "    def forward(self, x):\n",
    "        x = self.layer(x)\n",
    "        return x\n",
    "    \n",
    "    def step(self, gradient, learning_rate):\n",
    "        with torch.no_grad():\n",
    "            #pdb.set_trace()\n",
    "            ln2 = (1 + np.sqrt(1 + 4*self.ln**2))/2\n",
    "            self.gamma = (1 - self.ln)/ln2\n",
    "            t_k = self.layer.weight - learning_rate * gradient\n",
    "            self.layer.weight = torch.nn.Parameter((1 - self.gamma) * t_k + self.gamma * self.t)\n",
    "            self.ln = ln2\n",
    "            self.t = t_k"
   ]
  },
  {
   "cell_type": "code",
   "execution_count": 113,
   "metadata": {},
   "outputs": [],
   "source": [
    "#RMSProp\n",
    "class RMSPropNetwork(nn.Module):\n",
    "    def __init__(self):\n",
    "        super(RMSPropNetwork, self).__init__()\n",
    "        self.layer = nn.Linear(28*28, 10)\n",
    "        self.beta = 0.9\n",
    "        self.gamma = 1\n",
    "        self.e = 10**(-8)\n",
    "        self.k = torch.zeros(10, 28*28)\n",
    "        self.v = torch.zeros(10, 28*28)\n",
    "    \n",
    "    def forward(self, x):\n",
    "        x = self.layer(x)\n",
    "        return x\n",
    "    \n",
    "    def step(self, gradient, learning_rate):\n",
    "        #pdb.set_trace()\n",
    "        with torch.no_grad():\n",
    "            #pdb.set_trace()\n",
    "            self.v = (1 - self.beta) * self.v +  (1 - self.beta) * (gradient**2)\n",
    "            self.k = self.gamma* (1/(torch.sqrt(self.v + self.e)))\n",
    "            self.layer.weight -= torch.nn.Parameter(learning_rate * self.k * gradient)"
   ]
  },
  {
   "cell_type": "code",
   "execution_count": 141,
   "metadata": {},
   "outputs": [],
   "source": [
    "#Adam\n",
    "class AdamNetwork(nn.Module):\n",
    "    def __init__(self):\n",
    "        super(AdamNetwork, self).__init__()\n",
    "        self.layer = nn.Linear(28*28, 10)\n",
    "        self.beta1  = 0.9\n",
    "        self.beta2 = 0.999\n",
    "        self.e     = 10**(-8)\n",
    "        self.k     = 0\n",
    "        self.m_1   = 0\n",
    "        self.m_2   = 0\n",
    "        \n",
    "        \n",
    "    def forward(self, x):\n",
    "        x = self.layer(x)\n",
    "        return x\n",
    "    \n",
    "    def step(self, gradient, learning_rate):\n",
    "        with torch.no_grad():\n",
    "            #pdb.set_trace()\n",
    "            self.k += 1\n",
    "            self.m_1 = self.beta1 * self.m_1 + (1 - self.beta1) * gradient\n",
    "            m_1_debiased = self.m_1 * 1/(1 - (self.beta1**self.k))\n",
    "            self.m_2 = self.beta2 * self.m_2 + (1 - self.beta2) * (gradient)**2\n",
    "            m_2_debiased = self.m_2 * 1/(1 - (self.beta2**self.k))\n",
    "            self.layer.weight -= torch.nn.Parameter(learning_rate * m_1_debiased / (self.e + torch.sqrt(m_2_debiased)))       "
   ]
  },
  {
   "cell_type": "markdown",
   "metadata": {},
   "source": [
    "<br>"
   ]
  },
  {
   "cell_type": "markdown",
   "metadata": {},
   "source": [
    "**Function to Evaluate Optimization Algorithms**"
   ]
  },
  {
   "cell_type": "code",
   "execution_count": 155,
   "metadata": {},
   "outputs": [],
   "source": [
    "def optimization_algorithm_evaluation(name: str) -> str:\n",
    "    \n",
    "    print(name)\n",
    "    i = 0\n",
    "    \n",
    "    for batch in batch_sizes:\n",
    "        \n",
    "        trainloader = torch.utils.data.DataLoader(train_dataset, batch_size=batch, shuffle=True)\n",
    "        testloader = torch.utils.data.DataLoader(test_dataset, batch_size=batch, shuffle=True)\n",
    "        \n",
    "        for l in lambda_list:\n",
    "            \n",
    "            i += 1\n",
    "            print(f'Iteration {i} -> Batch Size: {batch} | Lambda: {l}') \n",
    "            \n",
    "            model = MomentumNetwork() #Change name of Network here when running\n",
    "            criterion = nn.CrossEntropyLoss()\n",
    "            \n",
    "            if batch == 1:\n",
    "                epochs = 3\n",
    "            elif batch == 500:\n",
    "                epochs = 10\n",
    "            else:\n",
    "                epochs = 10\n",
    "            \n",
    "            for epoch in range(epochs):\n",
    "    \n",
    "                for (X_train, y_train) in trainloader:    \n",
    "                    \n",
    "                    #Getting the data into the right format and making a pass forward\n",
    "                    X_train = X_train.view(-1, 28*28)\n",
    "                    train_predictions = model(X_train)\n",
    "                    \n",
    "                    #Calculating the Loss for a batch during training\n",
    "                    loss = criterion(train_predictions, y_train)\n",
    "                    loss.backward()\n",
    "                    \n",
    "                    #Taking a gradient step with Optimization Method\n",
    "                    model.step(model.layer.weight.grad, l)\n",
    "                   \n",
    "                with torch.no_grad():\n",
    "                    model.eval()\n",
    "                    \n",
    "                    total_loss = 0\n",
    "                    n  = 0\n",
    "                    \n",
    "                    for X_test, y_test in testloader:\n",
    "                        #Getting the data into the right format and making a pass forward     \n",
    "                        X_test = X_test.view(-1, 28*28)\n",
    "                        test_predictions = model(X_test)\n",
    "                        \n",
    "                        #Calculating Accuracy\n",
    "                        prediction = torch.argmax(test_predictions, dim = 1)\n",
    "                        n += torch.eq(prediction,torch.view_as(y_test, prediction)).sum().item()    \n",
    "                        \n",
    "                        #Calculating the Loss for a batch and suming it up\n",
    "                        loss = criterion(test_predictions, y_test)\n",
    "                        total_loss += (loss*batch)/len(testloader.dataset)                   \n",
    "        \n",
    "                #total_loss     = total_test_loss / len(testloader.dataset)\n",
    "                total_accuracy =  (n / len(testloader.dataset)) * 100\n",
    "                \n",
    "                #Formatting printing results to align columns\n",
    "                e = str(epoch + 1)\n",
    "                if len(e) == 1:\n",
    "                    e = e + ' '\n",
    "                    pass\n",
    "                \n",
    "                #pdb.set_trace()\n",
    "                if len(str(total_accuracy)) == 5:\n",
    "                    pass\n",
    "                elif len(str(total_accuracy)) < 5:\n",
    "                    total_accuracy = str(total_accuracy) + '0'\n",
    "                else:\n",
    "                    total_accuracy = str(total_accuracy)[:5]\n",
    "                \n",
    "                print(f'Epoch: {e} | Accuracy: {total_accuracy}% | Loss: {torch.round(total_loss)}')\n",
    "                total_loss = 0\n",
    "            print('-'*50)"
   ]
  },
  {
   "cell_type": "markdown",
   "metadata": {},
   "source": [
    "<br>"
   ]
  },
  {
   "cell_type": "markdown",
   "metadata": {},
   "source": [
    "<br>"
   ]
  },
  {
   "cell_type": "markdown",
   "metadata": {},
   "source": [
    "**Optimization Algorithms Results**"
   ]
  },
  {
   "cell_type": "markdown",
   "metadata": {},
   "source": [
    "- Below you can find the result of applying the different optimization algorithms.\n",
    "- Even though they all converge, there is something off with the loss. \n",
    "- The accuracy serves as an indicator that the model converges in all cases."
   ]
  },
  {
   "cell_type": "markdown",
   "metadata": {},
   "source": [
    "<br>"
   ]
  },
  {
   "cell_type": "markdown",
   "metadata": {},
   "source": [
    "**Momentum Method**"
   ]
  },
  {
   "cell_type": "code",
   "execution_count": 156,
   "metadata": {},
   "outputs": [
    {
     "name": "stdout",
     "output_type": "stream",
     "text": [
      "Momentum Optimization Method\n",
      "Iteration 1 -> Batch Size: 1 | Lambda: 0.01\n",
      "Epoch: 1  | Accuracy: 88.27% | Loss: 36777.0\n",
      "Epoch: 2  | Accuracy: 86.04% | Loss: 93032.0\n",
      "Epoch: 3  | Accuracy: 87.67% | Loss: 128542.0\n",
      "--------------------------------------------------\n",
      "Iteration 2 -> Batch Size: 1 | Lambda: 0.1\n",
      "Epoch: 1  | Accuracy: 87.49% | Loss: 432892.0\n",
      "Epoch: 2  | Accuracy: 86.55% | Loss: 935195.0\n",
      "Epoch: 3  | Accuracy: 87.22% | Loss: 1382426.0\n",
      "--------------------------------------------------\n",
      "Iteration 3 -> Batch Size: 1 | Lambda: 1\n",
      "Epoch: 1  | Accuracy: 86.91% | Loss: 4912550.0\n",
      "Epoch: 2  | Accuracy: 88.19% | Loss: 9796052.0\n",
      "Epoch: 3  | Accuracy: 89.14% | Loss: 12890691.0\n",
      "--------------------------------------------------\n",
      "Iteration 4 -> Batch Size: 500 | Lambda: 0.01\n",
      "Epoch: 1  | Accuracy: 80.16% | Loss: 6.0\n",
      "Epoch: 2  | Accuracy: 63.27% | Loss: 95.0\n",
      "Epoch: 3  | Accuracy: 60.06% | Loss: 246.0\n",
      "Epoch: 4  | Accuracy: 54.51% | Loss: 416.0\n",
      "Epoch: 5  | Accuracy: 62.31% | Loss: 527.0\n",
      "Epoch: 6  | Accuracy: 70.62% | Loss: 454.0\n",
      "Epoch: 7  | Accuracy: 77.60% | Loss: 499.0\n",
      "Epoch: 8  | Accuracy: 77.62% | Loss: 574.0\n",
      "Epoch: 9  | Accuracy: 79.13% | Loss: 569.0\n",
      "Epoch: 10 | Accuracy: 78.49% | Loss: 660.0\n",
      "--------------------------------------------------\n",
      "Iteration 5 -> Batch Size: 500 | Lambda: 0.1\n",
      "Epoch: 1  | Accuracy: 35.75% | Loss: 1078.0\n",
      "Epoch: 2  | Accuracy: 58.66% | Loss: 2987.0\n",
      "Epoch: 3  | Accuracy: 57.90% | Loss: 3390.0\n",
      "Epoch: 4  | Accuracy: 75.70% | Loss: 2546.0\n",
      "Epoch: 5  | Accuracy: 67.91% | Loss: 5626.0\n",
      "Epoch: 6  | Accuracy: 75.29% | Loss: 4119.0\n",
      "Epoch: 7  | Accuracy: 79.96% | Loss: 3808.0\n",
      "Epoch: 8  | Accuracy: 77.37% | Loss: 6434.0\n",
      "Epoch: 9  | Accuracy: 78.10% | Loss: 7303.0\n",
      "Epoch: 10 | Accuracy: 85.96% | Loss: 4120.0\n",
      "--------------------------------------------------\n",
      "Iteration 6 -> Batch Size: 500 | Lambda: 1\n",
      "Epoch: 1  | Accuracy: 41.13% | Loss: 14443.0\n",
      "Epoch: 2  | Accuracy: 55.64% | Loss: 26077.0\n",
      "Epoch: 3  | Accuracy: 68.00% | Loss: 22528.0\n",
      "Epoch: 4  | Accuracy: 66.90% | Loss: 33457.0\n",
      "Epoch: 5  | Accuracy: 79.53% | Loss: 21470.0\n",
      "Epoch: 6  | Accuracy: 76.92% | Loss: 37449.0\n",
      "Epoch: 7  | Accuracy: 80.51% | Loss: 39154.0\n",
      "Epoch: 8  | Accuracy: 81.61% | Loss: 41080.0\n",
      "Epoch: 9  | Accuracy: 83.28% | Loss: 40039.0\n",
      "Epoch: 10 | Accuracy: 82.67% | Loss: 46292.0\n",
      "--------------------------------------------------\n",
      "Iteration 7 -> Batch Size: 60000 | Lambda: 0.01\n",
      "Epoch: 1  | Accuracy: 12.74% | Loss: 14.0\n",
      "Epoch: 2  | Accuracy: 17.83% | Loss: 14.0\n",
      "Epoch: 3  | Accuracy: 26.50% | Loss: 13.0\n",
      "Epoch: 4  | Accuracy: 40.65% | Loss: 13.0\n",
      "Epoch: 5  | Accuracy: 56.52% | Loss: 12.0\n",
      "Epoch: 6  | Accuracy: 63.83% | Loss: 11.0\n",
      "Epoch: 7  | Accuracy: 66.00% | Loss: 10.0\n",
      "Epoch: 8  | Accuracy: 67.27% | Loss: 9.0\n",
      "Epoch: 9  | Accuracy: 68.89% | Loss: 8.0\n",
      "Epoch: 10 | Accuracy: 71.31% | Loss: 7.0\n",
      "--------------------------------------------------\n",
      "Iteration 8 -> Batch Size: 60000 | Lambda: 0.1\n",
      "Epoch: 1  | Accuracy: 18.21% | Loss: 13.0\n",
      "Epoch: 2  | Accuracy: 55.95% | Loss: 12.0\n",
      "Epoch: 3  | Accuracy: 64.89% | Loss: 9.0\n",
      "Epoch: 4  | Accuracy: 70.26% | Loss: 7.0\n",
      "Epoch: 5  | Accuracy: 77.14% | Loss: 5.0\n",
      "Epoch: 6  | Accuracy: 81.78% | Loss: 4.0\n",
      "Epoch: 7  | Accuracy: 82.62% | Loss: 3.0\n",
      "Epoch: 8  | Accuracy: 80.52% | Loss: 4.0\n",
      "Epoch: 9  | Accuracy: 77.78% | Loss: 5.0\n",
      "Epoch: 10 | Accuracy: 76.36% | Loss: 7.0\n",
      "--------------------------------------------------\n",
      "Iteration 9 -> Batch Size: 60000 | Lambda: 1\n",
      "Epoch: 1  | Accuracy: 60.91% | Loss: 9.0\n",
      "Epoch: 2  | Accuracy: 81.41% | Loss: 4.0\n",
      "Epoch: 3  | Accuracy: 77.57% | Loss: 4.0\n",
      "Epoch: 4  | Accuracy: 80.65% | Loss: 5.0\n",
      "Epoch: 5  | Accuracy: 81.46% | Loss: 7.0\n",
      "Epoch: 6  | Accuracy: 79.79% | Loss: 10.0\n",
      "Epoch: 7  | Accuracy: 80.21% | Loss: 12.0\n",
      "Epoch: 8  | Accuracy: 83.15% | Loss: 13.0\n",
      "Epoch: 9  | Accuracy: 82.84% | Loss: 16.0\n",
      "Epoch: 10 | Accuracy: 76.07% | Loss: 28.0\n",
      "--------------------------------------------------\n"
     ]
    }
   ],
   "source": [
    "optimization_algorithm_evaluation(name = 'Momentum Optimization Method')"
   ]
  },
  {
   "cell_type": "markdown",
   "metadata": {},
   "source": [
    "<br>"
   ]
  },
  {
   "cell_type": "markdown",
   "metadata": {},
   "source": [
    "**Nesterov's Accelerated Gradient**"
   ]
  },
  {
   "cell_type": "code",
   "execution_count": 154,
   "metadata": {},
   "outputs": [
    {
     "name": "stdout",
     "output_type": "stream",
     "text": [
      "Nesterov's Optimization Method\n",
      "Iteration 1 -> Batch Size: 1 | Lambda: 0.01\n",
      "Epoch: 1  | Accuracy: 87.98% | Loss: 853.0\n",
      "Epoch: 2  | Accuracy: 84.76% | Loss: 2683.0\n",
      "Epoch: 3  | Accuracy: 84.07% | Loss: 3877.0\n",
      "--------------------------------------------------\n",
      "Iteration 2 -> Batch Size: 1 | Lambda: 0.1\n",
      "Epoch: 1  | Accuracy: 84.64% | Loss: 10268.0\n",
      "Epoch: 2  | Accuracy: 86.83% | Loss: 27017.0\n",
      "Epoch: 3  | Accuracy: 85.26% | Loss: 34856.0\n",
      "--------------------------------------------------\n",
      "Iteration 3 -> Batch Size: 1 | Lambda: 1\n",
      "Epoch: 1  | Accuracy: 84.30% | Loss: 134502.0\n",
      "Epoch: 2  | Accuracy: 85.45% | Loss: 259990.0\n",
      "Epoch: 3  | Accuracy: 85.83% | Loss: 344879.0\n",
      "--------------------------------------------------\n",
      "Iteration 4 -> Batch Size: 500 | Lambda: 0.01\n",
      "Epoch: 1  | Accuracy: 88.28% | Loss: 0.0\n",
      "Epoch: 2  | Accuracy: 90.66% | Loss: 0.0\n",
      "Epoch: 3  | Accuracy: 91.40% | Loss: 0.0\n",
      "Epoch: 4  | Accuracy: 91.88% | Loss: 0.0\n",
      "Epoch: 5  | Accuracy: 92.04% | Loss: 0.0\n",
      "Epoch: 6  | Accuracy: 92.11% | Loss: 0.0\n",
      "Epoch: 7  | Accuracy: 92.23% | Loss: 0.0\n",
      "Epoch: 8  | Accuracy: 92.10% | Loss: 0.0\n",
      "Epoch: 9  | Accuracy: 92.21% | Loss: 0.0\n",
      "Epoch: 10 | Accuracy: 92.27% | Loss: 0.0\n",
      "--------------------------------------------------\n",
      "Iteration 5 -> Batch Size: 500 | Lambda: 0.1\n",
      "Epoch: 1  | Accuracy: 91.52% | Loss: 0.0\n",
      "Epoch: 2  | Accuracy: 91.91% | Loss: 0.0\n",
      "Epoch: 3  | Accuracy: 91.97% | Loss: 0.0\n",
      "Epoch: 4  | Accuracy: 92.19% | Loss: 0.0\n",
      "Epoch: 5  | Accuracy: 91.75% | Loss: 0.0\n",
      "Epoch: 6  | Accuracy: 91.84% | Loss: 0.0\n",
      "Epoch: 7  | Accuracy: 91.97% | Loss: 0.0\n",
      "Epoch: 8  | Accuracy: 91.86% | Loss: 0.0\n",
      "Epoch: 9  | Accuracy: 91.50% | Loss: 0.0\n",
      "Epoch: 10 | Accuracy: 91.69% | Loss: 0.0\n",
      "--------------------------------------------------\n",
      "Iteration 6 -> Batch Size: 500 | Lambda: 1\n",
      "Epoch: 1  | Accuracy: 88.89% | Loss: 0.0\n",
      "Epoch: 2  | Accuracy: 88.97% | Loss: 0.0\n",
      "Epoch: 3  | Accuracy: 89.29% | Loss: 1.0\n",
      "Epoch: 4  | Accuracy: 88.87% | Loss: 1.0\n",
      "Epoch: 5  | Accuracy: 88.48% | Loss: 1.0\n",
      "Epoch: 6  | Accuracy: 87.79% | Loss: 1.0\n",
      "Epoch: 7  | Accuracy: 89.18% | Loss: 1.0\n",
      "Epoch: 8  | Accuracy: 88.48% | Loss: 1.0\n",
      "Epoch: 9  | Accuracy: 89.79% | Loss: 1.0\n",
      "Epoch: 10 | Accuracy: 88.51% | Loss: 1.0\n",
      "--------------------------------------------------\n",
      "Iteration 7 -> Batch Size: 60000 | Lambda: 0.01\n",
      "Epoch: 1  | Accuracy: 10.32% | Loss: 14.0\n",
      "Epoch: 2  | Accuracy: 14.18% | Loss: 14.0\n",
      "Epoch: 3  | Accuracy: 35.39% | Loss: 14.0\n",
      "Epoch: 4  | Accuracy: 50.72% | Loss: 14.0\n",
      "Epoch: 5  | Accuracy: 62.09% | Loss: 13.0\n",
      "Epoch: 6  | Accuracy: 66.93% | Loss: 13.0\n",
      "Epoch: 7  | Accuracy: 68.99% | Loss: 13.0\n",
      "Epoch: 8  | Accuracy: 70.28% | Loss: 13.0\n",
      "Epoch: 9  | Accuracy: 70.95% | Loss: 13.0\n",
      "Epoch: 10 | Accuracy: 71.55% | Loss: 13.0\n",
      "--------------------------------------------------\n",
      "Iteration 8 -> Batch Size: 60000 | Lambda: 0.1\n",
      "Epoch: 1  | Accuracy: 8.920% | Loss: 14.0\n",
      "Epoch: 2  | Accuracy: 70.06% | Loss: 13.0\n",
      "Epoch: 3  | Accuracy: 71.91% | Loss: 12.0\n",
      "Epoch: 4  | Accuracy: 74.11% | Loss: 12.0\n",
      "Epoch: 5  | Accuracy: 75.68% | Loss: 11.0\n",
      "Epoch: 6  | Accuracy: 77.14% | Loss: 10.0\n",
      "Epoch: 7  | Accuracy: 78.53% | Loss: 9.0\n",
      "Epoch: 8  | Accuracy: 79.69% | Loss: 8.0\n",
      "Epoch: 9  | Accuracy: 80.58% | Loss: 8.0\n",
      "Epoch: 10 | Accuracy: 81.38% | Loss: 7.0\n",
      "--------------------------------------------------\n",
      "Iteration 9 -> Batch Size: 60000 | Lambda: 1\n",
      "Epoch: 1  | Accuracy: 9.80% | Loss: 14.0\n",
      "Epoch: 2  | Accuracy: 68.94% | Loss: 9.0\n",
      "Epoch: 3  | Accuracy: 58.96% | Loss: 9.0\n",
      "Epoch: 4  | Accuracy: 39.03% | Loss: 14.0\n",
      "Epoch: 5  | Accuracy: 59.25% | Loss: 18.0\n",
      "Epoch: 6  | Accuracy: 60.57% | Loss: 16.0\n",
      "Epoch: 7  | Accuracy: 53.22% | Loss: 11.0\n",
      "Epoch: 8  | Accuracy: 51.01% | Loss: 21.0\n",
      "Epoch: 9  | Accuracy: 63.14% | Loss: 19.0\n",
      "Epoch: 10 | Accuracy: 62.38% | Loss: 19.0\n",
      "--------------------------------------------------\n"
     ]
    }
   ],
   "source": [
    "optimization_algorithm_evaluation(name = 'Nesterov\\'s Optimization Method')"
   ]
  },
  {
   "cell_type": "markdown",
   "metadata": {},
   "source": [
    "<br>"
   ]
  },
  {
   "cell_type": "markdown",
   "metadata": {},
   "source": [
    "**RMSProp**"
   ]
  },
  {
   "cell_type": "code",
   "execution_count": 152,
   "metadata": {},
   "outputs": [
    {
     "name": "stdout",
     "output_type": "stream",
     "text": [
      "RMSProp Optimization Algorithm\n",
      "Iteration 1 -> Batch Size: 1 | Lambda: 0.01\n",
      "Epoch: 1  | Accuracy: 87.03% | Loss: 265.0\n",
      "Epoch: 2  | Accuracy: 88.49% | Loss: 420.0\n",
      "Epoch: 3  | Accuracy: 88.42% | Loss: 551.0\n",
      "--------------------------------------------------\n",
      "Iteration 2 -> Batch Size: 1 | Lambda: 0.1\n",
      "Epoch: 1  | Accuracy: 86.64% | Loss: 2964.0\n",
      "Epoch: 2  | Accuracy: 88.92% | Loss: 3847.0\n",
      "Epoch: 3  | Accuracy: 89.03% | Loss: 5460.0\n",
      "--------------------------------------------------\n",
      "Iteration 3 -> Batch Size: 1 | Lambda: 1\n",
      "Epoch: 1  | Accuracy: 88.03% | Loss: 26126.0\n",
      "Epoch: 2  | Accuracy: 88.53% | Loss: 38257.0\n",
      "Epoch: 3  | Accuracy: 88.61% | Loss: 49400.0\n",
      "--------------------------------------------------\n",
      "Iteration 4 -> Batch Size: 500 | Lambda: 0.01\n",
      "Epoch: 1  | Accuracy: 89.94% | Loss: 1.0\n",
      "Epoch: 2  | Accuracy: 90.31% | Loss: 1.0\n",
      "Epoch: 3  | Accuracy: 89.25% | Loss: 1.0\n",
      "Epoch: 4  | Accuracy: 89.91% | Loss: 1.0\n",
      "Epoch: 5  | Accuracy: 89.70% | Loss: 1.0\n",
      "Epoch: 6  | Accuracy: 89.52% | Loss: 1.0\n",
      "Epoch: 7  | Accuracy: 89.72% | Loss: 1.0\n",
      "Epoch: 8  | Accuracy: 89.40% | Loss: 1.0\n",
      "Epoch: 9  | Accuracy: 89.25% | Loss: 1.0\n",
      "Epoch: 10 | Accuracy: 89.57% | Loss: 1.0\n",
      "--------------------------------------------------\n",
      "Iteration 5 -> Batch Size: 500 | Lambda: 0.1\n",
      "Epoch: 1  | Accuracy: 89.35% | Loss: 7.0\n",
      "Epoch: 2  | Accuracy: 89.72% | Loss: 9.0\n",
      "Epoch: 3  | Accuracy: 89.72% | Loss: 9.0\n",
      "Epoch: 4  | Accuracy: 88.92% | Loss: 11.0\n",
      "Epoch: 5  | Accuracy: 89.40% | Loss: 11.0\n",
      "Epoch: 6  | Accuracy: 89.02% | Loss: 12.0\n",
      "Epoch: 7  | Accuracy: 89.47% | Loss: 12.0\n",
      "Epoch: 8  | Accuracy: 89.69% | Loss: 12.0\n",
      "Epoch: 9  | Accuracy: 88.51% | Loss: 13.0\n",
      "Epoch: 10 | Accuracy: 88.42% | Loss: 14.0\n",
      "--------------------------------------------------\n",
      "Iteration 6 -> Batch Size: 500 | Lambda: 1\n",
      "Epoch: 1  | Accuracy: 89.18% | Loss: 65.0\n",
      "Epoch: 2  | Accuracy: 89.60% | Loss: 84.0\n",
      "Epoch: 3  | Accuracy: 89.53% | Loss: 90.0\n",
      "Epoch: 4  | Accuracy: 89.30% | Loss: 102.0\n",
      "Epoch: 5  | Accuracy: 88.20% | Loss: 115.0\n",
      "Epoch: 6  | Accuracy: 88.78% | Loss: 115.0\n",
      "Epoch: 7  | Accuracy: 89.07% | Loss: 122.0\n",
      "Epoch: 8  | Accuracy: 89.13% | Loss: 120.0\n",
      "Epoch: 9  | Accuracy: 89.17% | Loss: 127.0\n",
      "Epoch: 10 | Accuracy: 88.53% | Loss: 136.0\n",
      "--------------------------------------------------\n",
      "Iteration 7 -> Batch Size: 60000 | Lambda: 0.01\n",
      "Epoch: 1  | Accuracy: 59.19% | Loss: 8.0\n",
      "Epoch: 2  | Accuracy: 64.83% | Loss: 6.0\n",
      "Epoch: 3  | Accuracy: 75.79% | Loss: 5.0\n",
      "Epoch: 4  | Accuracy: 77.14% | Loss: 4.0\n",
      "Epoch: 5  | Accuracy: 82.30% | Loss: 3.0\n",
      "Epoch: 6  | Accuracy: 84.22% | Loss: 3.0\n",
      "Epoch: 7  | Accuracy: 84.15% | Loss: 3.0\n",
      "Epoch: 8  | Accuracy: 86.17% | Loss: 3.0\n",
      "Epoch: 9  | Accuracy: 86.38% | Loss: 3.0\n",
      "Epoch: 10 | Accuracy: 86.02% | Loss: 3.0\n",
      "--------------------------------------------------\n",
      "Iteration 8 -> Batch Size: 60000 | Lambda: 0.1\n",
      "Epoch: 1  | Accuracy: 48.43% | Loss: 36.0\n",
      "Epoch: 2  | Accuracy: 59.00% | Loss: 46.0\n",
      "Epoch: 3  | Accuracy: 55.61% | Loss: 60.0\n",
      "Epoch: 4  | Accuracy: 66.41% | Loss: 31.0\n",
      "Epoch: 5  | Accuracy: 75.18% | Loss: 25.0\n",
      "Epoch: 6  | Accuracy: 76.61% | Loss: 26.0\n",
      "Epoch: 7  | Accuracy: 77.11% | Loss: 27.0\n",
      "Epoch: 8  | Accuracy: 79.71% | Loss: 23.0\n",
      "Epoch: 9  | Accuracy: 84.06% | Loss: 18.0\n",
      "Epoch: 10 | Accuracy: 86.89% | Loss: 16.0\n",
      "--------------------------------------------------\n",
      "Iteration 9 -> Batch Size: 60000 | Lambda: 1\n",
      "Epoch: 1  | Accuracy: 61.85% | Loss: 183.0\n",
      "Epoch: 2  | Accuracy: 57.43% | Loss: 440.0\n",
      "Epoch: 3  | Accuracy: 60.30% | Loss: 436.0\n",
      "Epoch: 4  | Accuracy: 72.58% | Loss: 319.0\n",
      "Epoch: 5  | Accuracy: 73.80% | Loss: 302.0\n",
      "Epoch: 6  | Accuracy: 76.27% | Loss: 262.0\n",
      "Epoch: 7  | Accuracy: 81.25% | Loss: 203.0\n",
      "Epoch: 8  | Accuracy: 84.11% | Loss: 179.0\n",
      "Epoch: 9  | Accuracy: 81.73% | Loss: 211.0\n",
      "Epoch: 10 | Accuracy: 81.34% | Loss: 228.0\n",
      "--------------------------------------------------\n"
     ]
    }
   ],
   "source": [
    "optimization_algorithm_evaluation(name = 'RMSProp Optimization Algorithm')"
   ]
  },
  {
   "cell_type": "markdown",
   "metadata": {},
   "source": [
    "<br>"
   ]
  },
  {
   "cell_type": "markdown",
   "metadata": {},
   "source": [
    "**Adam**"
   ]
  },
  {
   "cell_type": "code",
   "execution_count": 149,
   "metadata": {},
   "outputs": [
    {
     "name": "stdout",
     "output_type": "stream",
     "text": [
      "ADAM Optimization Algorithm\n",
      "Iteration 1 -> Batch Size: 1 | Lambda: 0.01\n",
      "Epoch: 1  | Accuracy: 88.92% | Loss: 223.0\n",
      "Epoch: 2  | Accuracy: 88.73% | Loss: 319.0\n",
      "Epoch: 3  | Accuracy: 88.86% | Loss: 353.0\n",
      "--------------------------------------------------\n",
      "Iteration 2 -> Batch Size: 1 | Lambda: 0.1\n",
      "Epoch: 1  | Accuracy: 89.14% | Loss: 2179.0\n",
      "Epoch: 2  | Accuracy: 88.71% | Loss: 3032.0\n",
      "Epoch: 3  | Accuracy: 89.21% | Loss: 3642.0\n",
      "--------------------------------------------------\n",
      "Iteration 3 -> Batch Size: 1 | Lambda: 1\n",
      "Epoch: 1  | Accuracy: 89.19% | Loss: 21861.0\n",
      "Epoch: 2  | Accuracy: 88.70% | Loss: 29046.0\n",
      "Epoch: 3  | Accuracy: 88.41% | Loss: 36657.0\n",
      "--------------------------------------------------\n",
      "Iteration 4 -> Batch Size: 500 | Lambda: 0.01\n",
      "Epoch: 1  | Accuracy: 59.30% | Loss: 12.0\n",
      "Epoch: 2  | Accuracy: 68.23% | Loss: 14.0\n",
      "Epoch: 3  | Accuracy: 79.50% | Loss: 11.0\n",
      "Epoch: 4  | Accuracy: 76.64% | Loss: 17.0\n",
      "Epoch: 5  | Accuracy: 78.79% | Loss: 18.0\n",
      "Epoch: 6  | Accuracy: 81.61% | Loss: 17.0\n",
      "Epoch: 7  | Accuracy: 84.61% | Loss: 14.0\n",
      "Epoch: 8  | Accuracy: 82.09% | Loss: 20.0\n",
      "Epoch: 9  | Accuracy: 86.38% | Loss: 14.0\n",
      "Epoch: 10 | Accuracy: 87.19% | Loss: 15.0\n",
      "--------------------------------------------------\n",
      "Iteration 5 -> Batch Size: 500 | Lambda: 0.1\n",
      "Epoch: 1  | Accuracy: 57.73% | Loss: 114.0\n",
      "Epoch: 2  | Accuracy: 65.62% | Loss: 137.0\n",
      "Epoch: 3  | Accuracy: 66.62% | Loss: 175.0\n",
      "Epoch: 4  | Accuracy: 80.03% | Loss: 122.0\n",
      "Epoch: 5  | Accuracy: 81.66% | Loss: 146.0\n",
      "Epoch: 6  | Accuracy: 83.00% | Loss: 154.0\n",
      "Epoch: 7  | Accuracy: 87.42% | Loss: 113.0\n",
      "Epoch: 8  | Accuracy: 85.82% | Loss: 148.0\n",
      "Epoch: 9  | Accuracy: 87.29% | Loss: 138.0\n",
      "Epoch: 10 | Accuracy: 87.64% | Loss: 142.0\n",
      "--------------------------------------------------\n",
      "Iteration 6 -> Batch Size: 500 | Lambda: 1\n",
      "Epoch: 1  | Accuracy: 50.24% | Loss: 1154.0\n",
      "Epoch: 2  | Accuracy: 70.11% | Loss: 1218.0\n",
      "Epoch: 3  | Accuracy: 76.75% | Loss: 1297.0\n",
      "Epoch: 4  | Accuracy: 82.42% | Loss: 1059.0\n",
      "Epoch: 5  | Accuracy: 82.27% | Loss: 1414.0\n",
      "Epoch: 6  | Accuracy: 84.06% | Loss: 1359.0\n",
      "Epoch: 7  | Accuracy: 84.28% | Loss: 1455.0\n",
      "Epoch: 8  | Accuracy: 85.05% | Loss: 1655.0\n",
      "Epoch: 9  | Accuracy: 88.05% | Loss: 1429.0\n",
      "Epoch: 10 | Accuracy: 86.18% | Loss: 1757.0\n",
      "--------------------------------------------------\n",
      "Iteration 7 -> Batch Size: 60000 | Lambda: 0.01\n",
      "Epoch: 1  | Accuracy: 51.83% | Loss: 11.0\n",
      "Epoch: 2  | Accuracy: 58.76% | Loss: 9.0\n",
      "Epoch: 3  | Accuracy: 66.20% | Loss: 8.0\n",
      "Epoch: 4  | Accuracy: 73.00% | Loss: 7.0\n",
      "Epoch: 5  | Accuracy: 76.95% | Loss: 6.0\n",
      "Epoch: 6  | Accuracy: 77.86% | Loss: 5.0\n",
      "Epoch: 7  | Accuracy: 77.14% | Loss: 5.0\n",
      "Epoch: 8  | Accuracy: 76.47% | Loss: 5.0\n",
      "Epoch: 9  | Accuracy: 76.23% | Loss: 4.0\n",
      "Epoch: 10 | Accuracy: 77.16% | Loss: 4.0\n",
      "--------------------------------------------------\n",
      "Iteration 8 -> Batch Size: 60000 | Lambda: 0.1\n",
      "Epoch: 1  | Accuracy: 46.88% | Loss: 11.0\n",
      "Epoch: 2  | Accuracy: 69.93% | Loss: 8.0\n",
      "Epoch: 3  | Accuracy: 61.48% | Loss: 20.0\n",
      "Epoch: 4  | Accuracy: 61.65% | Loss: 24.0\n",
      "Epoch: 5  | Accuracy: 61.80% | Loss: 25.0\n",
      "Epoch: 6  | Accuracy: 64.38% | Loss: 23.0\n",
      "Epoch: 7  | Accuracy: 70.96% | Loss: 19.0\n",
      "Epoch: 8  | Accuracy: 75.13% | Loss: 21.0\n",
      "Epoch: 9  | Accuracy: 72.18% | Loss: 29.0\n",
      "Epoch: 10 | Accuracy: 65.95% | Loss: 41.0\n",
      "--------------------------------------------------\n",
      "Iteration 9 -> Batch Size: 60000 | Lambda: 1\n",
      "Epoch: 1  | Accuracy: 58.34% | Loss: 58.0\n",
      "Epoch: 2  | Accuracy: 75.18% | Loss: 44.0\n",
      "Epoch: 3  | Accuracy: 65.59% | Loss: 115.0\n",
      "Epoch: 4  | Accuracy: 70.74% | Loss: 114.0\n",
      "Epoch: 5  | Accuracy: 75.08% | Loss: 107.0\n",
      "Epoch: 6  | Accuracy: 76.02% | Loss: 134.0\n",
      "Epoch: 7  | Accuracy: 75.02% | Loss: 190.0\n",
      "Epoch: 8  | Accuracy: 72.78% | Loss: 249.0\n",
      "Epoch: 9  | Accuracy: 71.55% | Loss: 295.0\n",
      "Epoch: 10 | Accuracy: 69.59% | Loss: 341.0\n",
      "--------------------------------------------------\n"
     ]
    }
   ],
   "source": [
    "optimization_algorithm_evaluation(name = 'ADAM Optimization Algorithm')"
   ]
  }
 ],
 "metadata": {
  "kernelspec": {
   "display_name": "Python 3",
   "language": "python",
   "name": "python3"
  },
  "language_info": {
   "codemirror_mode": {
    "name": "ipython",
    "version": 3
   },
   "file_extension": ".py",
   "mimetype": "text/x-python",
   "name": "python",
   "nbconvert_exporter": "python",
   "pygments_lexer": "ipython3",
   "version": "3.7.6"
  }
 },
 "nbformat": 4,
 "nbformat_minor": 4
}
