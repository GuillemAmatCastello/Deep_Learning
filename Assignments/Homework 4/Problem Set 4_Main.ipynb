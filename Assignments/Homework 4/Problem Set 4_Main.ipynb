{
 "cells": [
  {
   "cell_type": "markdown",
   "metadata": {},
   "source": [
    "## *Problem Set 4*\n",
    "***ECE 685D***: Deep Learning (Fall 2020) <br>\n",
    "***Full name:*** Guillem Amat Castello"
   ]
  },
  {
   "cell_type": "markdown",
   "metadata": {},
   "source": [
    "<br>"
   ]
  },
  {
   "cell_type": "markdown",
   "metadata": {},
   "source": [
    "**Importing Packages**"
   ]
  },
  {
   "cell_type": "code",
   "execution_count": 77,
   "metadata": {},
   "outputs": [],
   "source": [
    "# General Python packages\n",
    "from sklearn.linear_model import LogisticRegression\n",
    "from sklearn.decomposition import PCA\n",
    "from sklearn import metrics\n",
    "import matplotlib.pyplot as plt\n",
    "import pandas as pd\n",
    "import numpy as np\n",
    "import pdb\n",
    "import os"
   ]
  },
  {
   "cell_type": "code",
   "execution_count": 3,
   "metadata": {},
   "outputs": [],
   "source": [
    "# Image visualization\n",
    "import matplotlib.image as mpimg\n",
    "from PIL import Image"
   ]
  },
  {
   "cell_type": "code",
   "execution_count": 8,
   "metadata": {},
   "outputs": [],
   "source": [
    "# Torch packages\n",
    "import torchvision.transforms as transforms\n",
    "from torchvision.utils import save_image\n",
    "from torch.autograd import Variable\n",
    "import torch.nn as nn\n",
    "import torch.nn.functional as F\n",
    "import torchvision\n",
    "import torch"
   ]
  },
  {
   "cell_type": "markdown",
   "metadata": {},
   "source": [
    "<br>"
   ]
  },
  {
   "cell_type": "markdown",
   "metadata": {},
   "source": [
    "### Problem 1: Classification with Convolutional Neural Networks"
   ]
  },
  {
   "cell_type": "markdown",
   "metadata": {},
   "source": [
    "**Importing and Wrangling Data**"
   ]
  },
  {
   "cell_type": "code",
   "execution_count": 159,
   "metadata": {},
   "outputs": [],
   "source": [
    "#Loading the labels and converting to torch.Tensor's\n",
    "objects = {0: 'airplane', 1: 'basket', 2: 'basketball', 3: 'bed', 4: 'bus',\n",
    "           5: 'calculator', 6: 'cookie', 7: 'eyeglasses', 8:'mushroom', 9: 'pizza'}\n",
    "\n",
    "train_size = 6000\n",
    "test_size  = 1000\n",
    "\n",
    "images_train = []\n",
    "labels_train = []\n",
    "images_test  = []\n",
    "labels_test  = []\n",
    "\n",
    "\n",
    "for i, label in enumerate(objects):\n",
    "    images_train.append(torch.Tensor(np.load(os.path.join(os.getcwd(),'Classes', objects[i] + '.npy' ))[:train_size]))\n",
    "    images_test.append(torch.Tensor(np.load(os.path.join(os.getcwd(),'Classes', objects[i] + '.npy' ))[train_size:train_size+test_size]))\n",
    "    labels_train.append(torch.ones(train_size).fill_(i))\n",
    "    labels_test.append(torch.ones(test_size).fill_(i))"
   ]
  },
  {
   "cell_type": "code",
   "execution_count": 160,
   "metadata": {},
   "outputs": [],
   "source": [
    "X_train = torch.cat(images_train, dim = 0).view(-1, 28, 28).float()\n",
    "X_test  = torch.cat(images_test, dim = 0).view(-1, 28, 28).float()\n",
    "y_train = torch.cat(labels_train, dim = 0).long()\n",
    "y_test  = torch.cat(labels_test, dim = 0).long()"
   ]
  },
  {
   "cell_type": "code",
   "execution_count": 161,
   "metadata": {},
   "outputs": [],
   "source": [
    "#Transform to Tensor.Dataset to be put into a DataLoader\n",
    "trainset = torch.utils.data.TensorDataset(X_train.float(), y_train.long())\n",
    "testset  = torch.utils.data.TensorDataset(X_test.float(), y_test.long())\n",
    "\n",
    "#Put Tensor into a DataLoader\n",
    "batch_size  = 500\n",
    "trainloader = torch.utils.data.DataLoader(trainset, batch_size=batch_size, shuffle=True)\n",
    "testloader  = torch.utils.data.DataLoader(testset, batch_size=batch_size, shuffle=True)"
   ]
  },
  {
   "cell_type": "markdown",
   "metadata": {},
   "source": [
    "<br>"
   ]
  },
  {
   "cell_type": "markdown",
   "metadata": {},
   "source": [
    "**Convolutional Neural Network**"
   ]
  },
  {
   "cell_type": "code",
   "execution_count": 165,
   "metadata": {},
   "outputs": [],
   "source": [
    "class ConvolutionalNetwork(nn.Module):\n",
    "    def __init__(self):\n",
    "        super().__init__()\n",
    "        self.convolutions = nn.Sequential(\n",
    "        nn.Conv2d(in_channels=1, out_channels=5, kernel_size=3, padding=1),\n",
    "        nn.ReLU(inplace=True),\n",
    "        nn.Conv2d(in_channels=5, out_channels=10, kernel_size=3, padding=1),\n",
    "        nn.MaxPool2d(2,2),\n",
    "        nn.ReLU(inplace=True),\n",
    "        nn.Conv2d(in_channels=10, out_channels=20, kernel_size=3, padding=1),\n",
    "        nn.MaxPool2d(2,2),\n",
    "        nn.ReLU(inplace=True)\n",
    "        )\n",
    "        \n",
    "        self.classifier = nn.Sequential(\n",
    "        nn.Linear(20 * 7 * 7, 1024), # (channels * width * height) after two pooling operations\n",
    "        nn.Linear(1024, 2048),\n",
    "        nn.Linear(2048, 10))\n",
    "        \n",
    "    def forward(self, x):\n",
    "        #pdb.set_trace()\n",
    "        x = self.convolutions(x)\n",
    "        x = x.view(-1, 20 * 7 * 7) # Reshape and flatten the data\n",
    "        x = self.classifier(x)\n",
    "        return x"
   ]
  },
  {
   "cell_type": "code",
   "execution_count": 166,
   "metadata": {},
   "outputs": [],
   "source": [
    "model     = ConvolutionalNetwork()\n",
    "criterion = nn.CrossEntropyLoss()\n",
    "optimizer = torch.optim.Adam(model.parameters(), lr=0.00025, weight_decay=0.001)"
   ]
  },
  {
   "cell_type": "markdown",
   "metadata": {},
   "source": [
    "<br>"
   ]
  },
  {
   "cell_type": "markdown",
   "metadata": {},
   "source": [
    "**Training and Testing the Model**"
   ]
  },
  {
   "cell_type": "code",
   "execution_count": 167,
   "metadata": {},
   "outputs": [
    {
     "name": "stdout",
     "output_type": "stream",
     "text": [
      "-------------------------------------------------------------------------------------------------\n",
      "| Epoch: 0 | Train Loss: 1.18 | Train Accuracy: 72.60% |Test Loss: 0.52 | Test Accuracy: 84.36% |\n",
      "-------------------------------------------------------------------------------------------------\n",
      "| Epoch: 1 | Train Loss: 0.46 | Train Accuracy: 85.87% |Test Loss: 0.45 | Test Accuracy: 86.74% |\n",
      "-------------------------------------------------------------------------------------------------\n",
      "| Epoch: 2 | Train Loss: 0.41 | Train Accuracy: 87.55% |Test Loss: 0.41 | Test Accuracy: 88.12% |\n",
      "-------------------------------------------------------------------------------------------------\n",
      "| Epoch: 3 | Train Loss: 0.37 | Train Accuracy: 88.56% |Test Loss: 0.43 | Test Accuracy: 87.63% |\n",
      "-------------------------------------------------------------------------------------------------\n",
      "| Epoch: 4 | Train Loss: 0.35 | Train Accuracy: 89.15% |Test Loss: 0.41 | Test Accuracy: 87.94% |\n",
      "-------------------------------------------------------------------------------------------------\n",
      "| Epoch: 5 | Train Loss: 0.33 | Train Accuracy: 89.64% |Test Loss: 0.39 | Test Accuracy: 88.61% |\n",
      "-------------------------------------------------------------------------------------------------\n",
      "| Epoch: 6 | Train Loss: 0.32 | Train Accuracy: 89.97% |Test Loss: 0.39 | Test Accuracy: 88.62% |\n",
      "-------------------------------------------------------------------------------------------------\n",
      "| Epoch: 7 | Train Loss: 0.31 | Train Accuracy: 90.28% |Test Loss: 0.39 | Test Accuracy: 88.9% |\n",
      "-------------------------------------------------------------------------------------------------\n",
      "| Epoch: 8 | Train Loss: 0.31 | Train Accuracy: 90.25% |Test Loss: 0.38 | Test Accuracy: 89.25% |\n",
      "-------------------------------------------------------------------------------------------------\n",
      "| Epoch: 9 | Train Loss: 0.30 | Train Accuracy: 90.82% |Test Loss: 0.38 | Test Accuracy: 89.13% |\n",
      "-------------------------------------------------------------------------------------------------\n"
     ]
    }
   ],
   "source": [
    "#Testing the Net\n",
    "model.eval()\n",
    "\n",
    "print('-'*97)\n",
    "for epoch in range(10):\n",
    "    \n",
    "    model.train()\n",
    "    train_loss = 0; train_accuracy = 0; train_correct  = 0\n",
    "    for i, data in enumerate(trainloader):\n",
    "        #pdb.set_trace()\n",
    "        optimizer.zero_grad()\n",
    "        \n",
    "        images, labels = data\n",
    "        images         = images[:, None, :]\n",
    "        predictions    = model(images)\n",
    "        \n",
    "        loss  = criterion(predictions, labels)\n",
    "        loss.backward()\n",
    "        optimizer.step()\n",
    "        \n",
    "        train_loss     += criterion(predictions, labels).item() \n",
    "        y_hat          = predictions.argmax(dim=1, keepdim=True)\n",
    "        train_correct  += y_hat.eq(labels.view_as(y_hat)).sum().item()\n",
    "\n",
    "    model.eval()\n",
    "    test_loss = 0; test_accuracy = 0; test_correct  = 0\n",
    "    for i, data in enumerate(testloader):\n",
    "        #pdb.set_trace()\n",
    "        images, labels = data\n",
    "        images = images[:, None, :]\n",
    "        \n",
    "        predictions = model(images)\n",
    "        \n",
    "        test_loss     += criterion(predictions, labels).item() \n",
    "        y_hat         = predictions.argmax(dim=1, keepdim=True) \n",
    "        test_correct  += y_hat.eq(labels.view_as(y_hat)).sum().item()\n",
    "    \n",
    "    #pdb.set_trace()\n",
    "    train_loss     = str((train_loss * batch_size)/len(trainloader.dataset))[:4]\n",
    "    train_accuracy = str(100 * train_correct / len(trainloader.dataset))[:5]\n",
    "    test_loss      = str((test_loss * batch_size)/len(testloader.dataset))[:4]\n",
    "    test_accuracy  = str(100 * test_correct / len(testloader.dataset))[:5]\n",
    "    \n",
    "    print(f'''| Epoch: {epoch} | Train Loss: {train_loss} | Train Accuracy: {train_accuracy}% |Test Loss: {test_loss} | Test Accuracy: {test_accuracy}% |''')\n",
    "    \n",
    "    print('-'*97)"
   ]
  },
  {
   "cell_type": "markdown",
   "metadata": {},
   "source": [
    "<br>"
   ]
  },
  {
   "cell_type": "markdown",
   "metadata": {},
   "source": [
    "**Plotting Example Images**"
   ]
  },
  {
   "cell_type": "code",
   "execution_count": 188,
   "metadata": {},
   "outputs": [
    {
     "data": {
      "image/png": "[encoded data removed]",
      "text/plain": [
       "<Figure size 1152x432 with 10 Axes>"
      ]
     },
     "metadata": {
      "needs_background": "light"
     },
     "output_type": "display_data"
    }
   ],
   "source": [
    "figure, axes = plt.subplots(nrows = 2, ncols = 5, figsize = (16,6))\n",
    "\n",
    "im=0\n",
    "for i in range(2):\n",
    "    for j in range(5):\n",
    "        axes[i,j].set_title(f'Y: {objects[labels[im].item()]} | P: {objects[y_hat[im].item()]}')\n",
    "        axes[i, j].imshow(images[:im+1][-1, -1, :], cmap='Greys')\n",
    "        axes[i,j].get_xaxis().set_visible(False)\n",
    "        axes[i,j].get_yaxis().set_visible(False)\n",
    "        axes[i,j].set_yticklabels([])\n",
    "        axes[i,j].set_xticklabels([])\n",
    "        im += 1"
   ]
  },
  {
   "cell_type": "markdown",
   "metadata": {},
   "source": [
    "Y is the actual class of the Object and P is the predicted class."
   ]
  },
  {
   "cell_type": "markdown",
   "metadata": {},
   "source": [
    "<br>"
   ]
  },
  {
   "cell_type": "markdown",
   "metadata": {},
   "source": [
    "### Problem 2: Feature Extraction Using Autoencoder"
   ]
  },
  {
   "cell_type": "code",
   "execution_count": 70,
   "metadata": {},
   "outputs": [],
   "source": [
    "transform = transforms.Compose([transforms.ToTensor(),\n",
    "                                transforms.Normalize((0.5,), (0.5,))])\n",
    "\n",
    "trainset = torchvision.datasets.MNIST(root='./data', train=True, download=True, transform = transform)\n",
    "testset = torchvision.datasets.MNIST(root='./data', train=False, download=True, transform = transform)"
   ]
  },
  {
   "cell_type": "code",
   "execution_count": 71,
   "metadata": {},
   "outputs": [],
   "source": [
    "trainloader = torch.utils.data.DataLoader(trainset, batch_size=500, shuffle=True)\n",
    "testloader = torch.utils.data.DataLoader(testset, batch_size=500, shuffle=False)"
   ]
  },
  {
   "cell_type": "code",
   "execution_count": 72,
   "metadata": {},
   "outputs": [],
   "source": [
    "# Helper function\n",
    "def Array_to_Image(x):\n",
    "    x = 0.5*x + 0.5\n",
    "    x = x.view(x.size(0), 1, 28, 28)\n",
    "    return x"
   ]
  },
  {
   "cell_type": "markdown",
   "metadata": {},
   "source": [
    "<br>"
   ]
  },
  {
   "cell_type": "markdown",
   "metadata": {},
   "source": [
    "**Autoencoder Class**"
   ]
  },
  {
   "cell_type": "code",
   "execution_count": 73,
   "metadata": {},
   "outputs": [],
   "source": [
    "class Autoencoder(nn.Module):\n",
    "    def __init__(self):\n",
    "        super().__init__()\n",
    "        self.Encoder = nn.Sequential(\n",
    "            nn.Linear(28*28, 128),\n",
    "            nn.ReLU(inplace=True),\n",
    "            nn.Linear(128, 64),\n",
    "            nn.ReLU(inplace=True),\n",
    "            nn.Linear(64, 12),\n",
    "            nn.ReLU(inplace=True),\n",
    "            nn.Linear(12, 3)\n",
    "        )\n",
    "        \n",
    "        self.Decoder = nn.Sequential(\n",
    "            nn.Linear(3, 12, 1),\n",
    "            nn.ReLU(inplace=True),\n",
    "            nn.Linear(12, 64, 1),\n",
    "            nn.ReLU(inplace=True),\n",
    "            nn.Linear(64, 128, 1),\n",
    "            nn.ReLU(inplace=True),\n",
    "            nn.Linear(128, 28*28, 1),\n",
    "            nn.Tanh()\n",
    "        )\n",
    "        \n",
    "    def forward(self, x):\n",
    "        encoder = self.Encoder(x)\n",
    "        decoder = self.Decoder(encoder)\n",
    "        \n",
    "        return encoder, decoder"
   ]
  },
  {
   "cell_type": "markdown",
   "metadata": {},
   "source": [
    "<br>"
   ]
  },
  {
   "cell_type": "markdown",
   "metadata": {},
   "source": [
    "**Regular Autoencoder**"
   ]
  },
  {
   "cell_type": "code",
   "execution_count": 74,
   "metadata": {},
   "outputs": [],
   "source": [
    "AE        = Autoencoder()\n",
    "criterion = nn.MSELoss()\n",
    "optimizer = torch.optim.Adam(AE.parameters(), lr=0.001, weight_decay=0.0001)"
   ]
  },
  {
   "cell_type": "code",
   "execution_count": 75,
   "metadata": {},
   "outputs": [
    {
     "name": "stdout",
     "output_type": "stream",
     "text": [
      "| Epoch:  1 -> Training Loss: 0.339 |\n",
      "| Epoch:  2 -> Training Loss: 0.230 |\n",
      "| Epoch:  3 -> Training Loss: 0.211 |\n",
      "| Epoch:  4 -> Training Loss: 0.202 |\n",
      "| Epoch:  5 -> Training Loss: 0.191 |\n",
      "| Epoch:  6 -> Training Loss: 0.180 |\n",
      "| Epoch:  7 -> Training Loss: 0.170 |\n",
      "| Epoch:  8 -> Training Loss: 0.165 |\n",
      "| Epoch:  9 -> Training Loss: 0.162 |\n",
      "| Epoch: 10 -> Training Loss: 0.160 |\n",
      "| Epoch: 11 -> Training Loss: 0.158 |\n",
      "| Epoch: 12 -> Training Loss: 0.157 |\n",
      "| Epoch: 13 -> Training Loss: 0.155 |\n",
      "| Epoch: 14 -> Training Loss: 0.154 |\n",
      "| Epoch: 15 -> Training Loss: 0.152 |\n",
      "| Epoch: 16 -> Training Loss: 0.151 |\n",
      "| Epoch: 17 -> Training Loss: 0.150 |\n",
      "| Epoch: 18 -> Training Loss: 0.149 |\n",
      "| Epoch: 19 -> Training Loss: 0.148 |\n",
      "| Epoch: 20 -> Training Loss: 0.147 |\n",
      "| Epoch: 21 -> Training Loss: 0.146 |\n",
      "| Epoch: 22 -> Training Loss: 0.145 |\n",
      "| Epoch: 23 -> Training Loss: 0.144 |\n",
      "| Epoch: 24 -> Training Loss: 0.144 |\n",
      "| Epoch: 25 -> Training Loss: 0.143 |\n"
     ]
    }
   ],
   "source": [
    "for epoch in range(25):\n",
    "    #pdb.set_trace()  \n",
    "    training_loss = 0\n",
    "    \n",
    "    for i, data in enumerate(trainloader):\n",
    "\n",
    "        optimizer.zero_grad()\n",
    "        \n",
    "        images, _ = data\n",
    "        images    = images.view(images.size(0), -1)\n",
    "        \n",
    "        _, output = AE(images)\n",
    "        loss      = criterion(images, output)\n",
    "        \n",
    "        loss.backward()\n",
    "        optimizer.step()\n",
    "        training_loss += loss.item()\n",
    "    \n",
    "    training_loss = str(training_loss/(i+1))[:5]\n",
    "    if len(str(epoch+1)) > 1:\n",
    "        print('| Epoch: {} -> Loss: {} |'.format(epoch+1, training_loss))\n",
    "    else:\n",
    "        print('| Epoch:  {} -> Loss: {} |'.format(epoch+1, training_loss))"
   ]
  },
  {
   "cell_type": "markdown",
   "metadata": {},
   "source": [
    "<br>"
   ]
  },
  {
   "cell_type": "markdown",
   "metadata": {},
   "source": [
    "**Contractive Autoencoder**"
   ]
  },
  {
   "cell_type": "code",
   "execution_count": 78,
   "metadata": {},
   "outputs": [],
   "source": [
    "CAE       = Autoencoder()\n",
    "criterion = nn.MSELoss()\n",
    "optimizer = torch.optim.Adam(CAE.parameters(), lr=0.001, weight_decay=0.0001)"
   ]
  },
  {
   "cell_type": "code",
   "execution_count": 80,
   "metadata": {},
   "outputs": [
    {
     "name": "stdout",
     "output_type": "stream",
     "text": [
      "| Epoch:  1 -> Loss: 0.217 |\n",
      "| Epoch:  2 -> Loss: 0.201 |\n",
      "| Epoch:  3 -> Loss: 0.189 |\n",
      "| Epoch:  4 -> Loss: 0.180 |\n",
      "| Epoch:  5 -> Loss: 0.174 |\n",
      "| Epoch:  6 -> Loss: 0.169 |\n",
      "| Epoch:  7 -> Loss: 0.166 |\n",
      "| Epoch:  8 -> Loss: 0.163 |\n",
      "| Epoch:  9 -> Loss: 0.161 |\n",
      "| Epoch: 10 -> Loss: 0.159 |\n",
      "| Epoch: 11 -> Loss: 0.157 |\n",
      "| Epoch: 12 -> Loss: 0.156 |\n",
      "| Epoch: 13 -> Loss: 0.155 |\n",
      "| Epoch: 14 -> Loss: 0.153 |\n",
      "| Epoch: 15 -> Loss: 0.152 |\n",
      "| Epoch: 16 -> Loss: 0.151 |\n",
      "| Epoch: 17 -> Loss: 0.150 |\n",
      "| Epoch: 18 -> Loss: 0.149 |\n",
      "| Epoch: 19 -> Loss: 0.148 |\n",
      "| Epoch: 20 -> Loss: 0.148 |\n",
      "| Epoch: 21 -> Loss: 0.147 |\n",
      "| Epoch: 22 -> Loss: 0.146 |\n",
      "| Epoch: 23 -> Loss: 0.146 |\n",
      "| Epoch: 24 -> Loss: 0.145 |\n",
      "| Epoch: 25 -> Loss: 0.145 |\n"
     ]
    }
   ],
   "source": [
    "l = 0.001\n",
    "\n",
    "for epoch in range(25):\n",
    "    #pdb.set_trace()  \n",
    "    training_loss = 0\n",
    "    \n",
    "    for i, data in enumerate(trainloader):\n",
    "        #pdb.set_trace()\n",
    "        images, _ = data\n",
    "        images    = images.view(images.size(0), -1)\n",
    "        images.requires_grad = True\n",
    "        \n",
    "        optimizer.zero_grad()\n",
    "        encoder, output = CAE(images)\n",
    "        \n",
    "        loss = criterion(images, output)\n",
    "        encoder.backward(torch.zeros(encoder.size()), retain_graph=True)\n",
    "        regularizer = torch.norm(images.grad)\n",
    "        images.grad.data.zero_()\n",
    "        regularized_loss = regularizer*l\n",
    "        loss = loss + regularized_loss\n",
    "        loss.backward()\n",
    "        \n",
    "        optimizer.step()\n",
    "        training_loss += loss.item()\n",
    "\n",
    "    training_loss = str(training_loss/(i+1))[:5] \n",
    "    \n",
    "    if len(str(epoch+1)) > 1:\n",
    "        print('| Epoch: {} -> Loss: {} |'.format(epoch+1, training_loss))\n",
    "    else:\n",
    "        print('| Epoch:  {} -> Loss: {} |'.format(epoch+1, training_loss))"
   ]
  },
  {
   "cell_type": "markdown",
   "metadata": {},
   "source": [
    "<br>"
   ]
  },
  {
   "cell_type": "markdown",
   "metadata": {},
   "source": [
    "**Principal Component Analysis**"
   ]
  },
  {
   "cell_type": "code",
   "execution_count": 81,
   "metadata": {},
   "outputs": [],
   "source": [
    "from sklearn import preprocessing\n",
    "from sklearn.decomposition import PCA"
   ]
  },
  {
   "cell_type": "code",
   "execution_count": 99,
   "metadata": {},
   "outputs": [],
   "source": [
    "pca = PCA(n_components = 3)"
   ]
  },
  {
   "cell_type": "markdown",
   "metadata": {},
   "source": [
    "<br>"
   ]
  },
  {
   "cell_type": "markdown",
   "metadata": {},
   "source": [
    "**Multiple Logistic Regression**"
   ]
  },
  {
   "cell_type": "code",
   "execution_count": 101,
   "metadata": {},
   "outputs": [],
   "source": [
    "train = torch.utils.data.DataLoader(trainset, batch_size=len(trainset))\n",
    "test  = torch.utils.data.DataLoader(trainset, batch_size=len(testset))"
   ]
  },
  {
   "cell_type": "code",
   "execution_count": 104,
   "metadata": {},
   "outputs": [],
   "source": [
    "# Train\n",
    "image, y_train = next(iter(train))\n",
    "X_train = image.view(image.size(0), -1) \n",
    "\n",
    "# Test\n",
    "image, y_test = next(iter(test))\n",
    "X_test = image.view(image.size(0), -1) "
   ]
  },
  {
   "cell_type": "code",
   "execution_count": 120,
   "metadata": {},
   "outputs": [],
   "source": [
    "class style:\n",
    "    start = '\\033[1m'\n",
    "    end = '\\033[0m'"
   ]
  },
  {
   "cell_type": "markdown",
   "metadata": {},
   "source": [
    "<br>"
   ]
  },
  {
   "cell_type": "code",
   "execution_count": 136,
   "metadata": {},
   "outputs": [],
   "source": [
    "#Regular Autoencoder\n",
    "with torch.no_grad():\n",
    "    AE.eval()\n",
    "\n",
    "    #Train\n",
    "    encoder, _ = AE(X_train)\n",
    "    AE_LR      = LogisticRegression(multi_class=\"multinomial\", max_iter=1000)\n",
    "    AE_LR.fit(encoder, y_train)\n",
    "    \n",
    "    #Test\n",
    "    encoder, _  = AE(X_test)\n",
    "    predictions = AE_LR.predict(encoder)\n",
    "    AE_accuracy = metrics.accuracy_score(y_test, predictions)\n",
    "    AE_accuracy = AE_accuracy*100"
   ]
  },
  {
   "cell_type": "code",
   "execution_count": 137,
   "metadata": {},
   "outputs": [
    {
     "name": "stdout",
     "output_type": "stream",
     "text": [
      "\u001b[1mAccuracy: \u001b[0m70.5%\n"
     ]
    }
   ],
   "source": [
    "print(style.start + 'Accuracy: ' + style.end + f'{AE_accuracy.round(2)}%')"
   ]
  },
  {
   "cell_type": "markdown",
   "metadata": {},
   "source": [
    "<br>"
   ]
  },
  {
   "cell_type": "code",
   "execution_count": 143,
   "metadata": {},
   "outputs": [],
   "source": [
    "#Contractive Autoencoder\n",
    "with torch.no_grad():\n",
    "    CAE.eval()\n",
    "    \n",
    "    #Train\n",
    "    encoder, _ = CAE(X_train)\n",
    "    CAE_LR     = LogisticRegression(multi_class=\"multinomial\", max_iter=1000)\n",
    "    CAE_LR.fit(encoder, y_train)\n",
    "    \n",
    "    #Test\n",
    "    encoder, _   = CAE(X_test)\n",
    "    predictions  = CAE_LR.predict(encoder)\n",
    "    CAE_accuracy = metrics.accuracy_score(y_test, predictions)\n",
    "    CAE_accuracy = CAE_accuracy*100"
   ]
  },
  {
   "cell_type": "code",
   "execution_count": 144,
   "metadata": {},
   "outputs": [
    {
     "name": "stdout",
     "output_type": "stream",
     "text": [
      "\u001b[1mAccuracy: \u001b[0m72.15%\n"
     ]
    }
   ],
   "source": [
    "print(style.start + 'Accuracy: ' + style.end + f'{CAE_accuracy.round(2)}%')"
   ]
  },
  {
   "cell_type": "markdown",
   "metadata": {},
   "source": [
    "<br>"
   ]
  },
  {
   "cell_type": "code",
   "execution_count": 134,
   "metadata": {},
   "outputs": [],
   "source": [
    "#Train\n",
    "components = pca.fit_transform(X_train)\n",
    "PCA_LR     = LogisticRegression(multi_class=\"multinomial\", max_iter=500)\n",
    "PCA_LR.fit(components, y_train)\n",
    "\n",
    "#Test\n",
    "components   = pca.fit_transform(X_test)\n",
    "predictions  = PCA_LR.predict(components)\n",
    "PCA_accuracy = metrics.accuracy_score(y_test, predictions)\n",
    "PCA_accuracy = PCA_accuracy*100"
   ]
  },
  {
   "cell_type": "code",
   "execution_count": 135,
   "metadata": {},
   "outputs": [
    {
     "name": "stdout",
     "output_type": "stream",
     "text": [
      "\u001b[1mAccuracy: \u001b[0m45.84%\n"
     ]
    }
   ],
   "source": [
    "print(style.start + 'Accuracy: ' + style.end + f'{PCA_accuracy.round(2)}%')"
   ]
  }
 ],
 "metadata": {
  "kernelspec": {
   "display_name": "Python 3",
   "language": "python",
   "name": "python3"
  },
  "language_info": {
   "codemirror_mode": {
    "name": "ipython",
    "version": 3
   },
   "file_extension": ".py",
   "mimetype": "text/x-python",
   "name": "python",
   "nbconvert_exporter": "python",
   "pygments_lexer": "ipython3",
   "version": "3.7.6"
  }
 },
 "nbformat": 4,
 "nbformat_minor": 4
}
