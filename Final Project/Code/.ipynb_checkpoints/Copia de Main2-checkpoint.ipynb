{
 "cells": [
  {
   "cell_type": "markdown",
   "metadata": {},
   "source": [
    "## COVID19 Forecasting Project"
   ]
  },
  {
   "cell_type": "markdown",
   "metadata": {},
   "source": [
    "**ECE 685:** Deep Learning <br>\n",
    "**Student:** Guillem Amat, Sebastian Soriano"
   ]
  },
  {
   "cell_type": "markdown",
   "metadata": {},
   "source": [
    "<br>"
   ]
  },
  {
   "cell_type": "markdown",
   "metadata": {},
   "source": [
    "#### Loading Packages"
   ]
  },
  {
   "cell_type": "code",
   "execution_count": 56,
   "metadata": {},
   "outputs": [],
   "source": [
    "# Normal Packages\n",
    "import matplotlib.pyplot as plt\n",
    "import pandas as pd\n",
    "import numpy as np\n",
    "import re\n",
    "import pdb\n",
    "import csv\n",
    "import os"
   ]
  },
  {
   "cell_type": "code",
   "execution_count": 57,
   "metadata": {},
   "outputs": [],
   "source": [
    "# Torch Packages\n",
    "import torch\n",
    "from torch.autograd import Variable\n",
    "import torch.nn as nn\n",
    "import torch.nn.functional as F"
   ]
  },
  {
   "cell_type": "code",
   "execution_count": 58,
   "metadata": {},
   "outputs": [],
   "source": [
    "import warnings\n",
    "warnings.filterwarnings(\"ignore\")"
   ]
  },
  {
   "cell_type": "markdown",
   "metadata": {},
   "source": [
    "<br>"
   ]
  },
  {
   "cell_type": "markdown",
   "metadata": {},
   "source": [
    "#### Loading Data"
   ]
  },
  {
   "cell_type": "code",
   "execution_count": 201,
   "metadata": {},
   "outputs": [],
   "source": []
  },
  {
   "cell_type": "code",
   "execution_count": 59,
   "metadata": {},
   "outputs": [],
   "source": [
    "#data = pd.read_csv(os.path.join(os.getcwd(), 'Data', 'week_5', 'train.csv'))\n",
    "data = pd.read_csv('../Data/week_5/train.csv')"
   ]
  },
  {
   "cell_type": "markdown",
   "metadata": {},
   "source": [
    "<br>"
   ]
  },
  {
   "cell_type": "markdown",
   "metadata": {},
   "source": [
    "**Creating Key for Location**"
   ]
  },
  {
   "cell_type": "code",
   "execution_count": 60,
   "metadata": {},
   "outputs": [
    {
     "data": {
      "text/html": [
       "<div>\n",
       "<style scoped>\n",
       "    .dataframe tbody tr th:only-of-type {\n",
       "        vertical-align: middle;\n",
       "    }\n",
       "\n",
       "    .dataframe tbody tr th {\n",
       "        vertical-align: top;\n",
       "    }\n",
       "\n",
       "    .dataframe thead th {\n",
       "        text-align: right;\n",
       "    }\n",
       "</style>\n",
       "<table border=\"1\" class=\"dataframe\">\n",
       "  <thead>\n",
       "    <tr style=\"text-align: right;\">\n",
       "      <th></th>\n",
       "      <th>Id</th>\n",
       "      <th>County</th>\n",
       "      <th>Province_State</th>\n",
       "      <th>Country_Region</th>\n",
       "      <th>Population</th>\n",
       "      <th>Weight</th>\n",
       "      <th>Date</th>\n",
       "      <th>Target</th>\n",
       "      <th>TargetValue</th>\n",
       "    </tr>\n",
       "  </thead>\n",
       "  <tbody>\n",
       "    <tr>\n",
       "      <td>0</td>\n",
       "      <td>1</td>\n",
       "      <td>NaN</td>\n",
       "      <td>NaN</td>\n",
       "      <td>Afghanistan</td>\n",
       "      <td>27657145</td>\n",
       "      <td>0.058359</td>\n",
       "      <td>2020-01-23</td>\n",
       "      <td>ConfirmedCases</td>\n",
       "      <td>0</td>\n",
       "    </tr>\n",
       "    <tr>\n",
       "      <td>1</td>\n",
       "      <td>2</td>\n",
       "      <td>NaN</td>\n",
       "      <td>NaN</td>\n",
       "      <td>Afghanistan</td>\n",
       "      <td>27657145</td>\n",
       "      <td>0.583587</td>\n",
       "      <td>2020-01-23</td>\n",
       "      <td>Fatalities</td>\n",
       "      <td>0</td>\n",
       "    </tr>\n",
       "    <tr>\n",
       "      <td>2</td>\n",
       "      <td>3</td>\n",
       "      <td>NaN</td>\n",
       "      <td>NaN</td>\n",
       "      <td>Afghanistan</td>\n",
       "      <td>27657145</td>\n",
       "      <td>0.058359</td>\n",
       "      <td>2020-01-24</td>\n",
       "      <td>ConfirmedCases</td>\n",
       "      <td>0</td>\n",
       "    </tr>\n",
       "    <tr>\n",
       "      <td>3</td>\n",
       "      <td>4</td>\n",
       "      <td>NaN</td>\n",
       "      <td>NaN</td>\n",
       "      <td>Afghanistan</td>\n",
       "      <td>27657145</td>\n",
       "      <td>0.583587</td>\n",
       "      <td>2020-01-24</td>\n",
       "      <td>Fatalities</td>\n",
       "      <td>0</td>\n",
       "    </tr>\n",
       "    <tr>\n",
       "      <td>4</td>\n",
       "      <td>5</td>\n",
       "      <td>NaN</td>\n",
       "      <td>NaN</td>\n",
       "      <td>Afghanistan</td>\n",
       "      <td>27657145</td>\n",
       "      <td>0.058359</td>\n",
       "      <td>2020-01-25</td>\n",
       "      <td>ConfirmedCases</td>\n",
       "      <td>0</td>\n",
       "    </tr>\n",
       "  </tbody>\n",
       "</table>\n",
       "</div>"
      ],
      "text/plain": [
       "   Id County Province_State Country_Region  Population    Weight        Date  \\\n",
       "0   1    NaN            NaN    Afghanistan    27657145  0.058359  2020-01-23   \n",
       "1   2    NaN            NaN    Afghanistan    27657145  0.583587  2020-01-23   \n",
       "2   3    NaN            NaN    Afghanistan    27657145  0.058359  2020-01-24   \n",
       "3   4    NaN            NaN    Afghanistan    27657145  0.583587  2020-01-24   \n",
       "4   5    NaN            NaN    Afghanistan    27657145  0.058359  2020-01-25   \n",
       "\n",
       "           Target  TargetValue  \n",
       "0  ConfirmedCases            0  \n",
       "1      Fatalities            0  \n",
       "2  ConfirmedCases            0  \n",
       "3      Fatalities            0  \n",
       "4  ConfirmedCases            0  "
      ]
     },
     "execution_count": 60,
     "metadata": {},
     "output_type": "execute_result"
    }
   ],
   "source": [
    "data.head()"
   ]
  },
  {
   "cell_type": "code",
   "execution_count": 61,
   "metadata": {},
   "outputs": [],
   "source": [
    "data['County']         = data['County'].fillna('')\n",
    "data['Province_State'] = data['Province_State'].fillna('')"
   ]
  },
  {
   "cell_type": "code",
   "execution_count": 62,
   "metadata": {},
   "outputs": [],
   "source": [
    "data['location'] = data['Country_Region'] + ' ' + data['Province_State'] + ' ' + data['County']"
   ]
  },
  {
   "cell_type": "code",
   "execution_count": 63,
   "metadata": {},
   "outputs": [],
   "source": [
    "population = data[['location', 'Population']].drop_duplicates()"
   ]
  },
  {
   "cell_type": "markdown",
   "metadata": {},
   "source": [
    "<br>"
   ]
  },
  {
   "cell_type": "markdown",
   "metadata": {},
   "source": [
    "**Filtering Country**"
   ]
  },
  {
   "cell_type": "code",
   "execution_count": 48,
   "metadata": {},
   "outputs": [],
   "source": [
    "#!pip install us\n",
    "#!pip install countrygroups"
   ]
  },
  {
   "cell_type": "code",
   "execution_count": 49,
   "metadata": {},
   "outputs": [],
   "source": [
    "#from countrygroups import EUROPEAN_UNION\n",
    "#from us import states"
   ]
  },
  {
   "cell_type": "code",
   "execution_count": 50,
   "metadata": {},
   "outputs": [],
   "source": [
    "#european = EUROPEAN_UNION.names\n",
    "#american = [str(state) for state in states.STATES]"
   ]
  },
  {
   "cell_type": "code",
   "execution_count": 64,
   "metadata": {},
   "outputs": [],
   "source": [
    "euro = ['Spain', 'Germany', 'France', 'Italy', 'United Kingdom']"
   ]
  },
  {
   "cell_type": "code",
   "execution_count": 65,
   "metadata": {},
   "outputs": [],
   "source": [
    "# Operations to subset for european countries\n",
    "data = data[data['Country_Region'].isin(euro)]\n",
    "data = data.loc[lambda x: x.Province_State == '']"
   ]
  },
  {
   "cell_type": "code",
   "execution_count": 66,
   "metadata": {},
   "outputs": [
    {
     "data": {
      "text/html": [
       "<div>\n",
       "<style scoped>\n",
       "    .dataframe tbody tr th:only-of-type {\n",
       "        vertical-align: middle;\n",
       "    }\n",
       "\n",
       "    .dataframe tbody tr th {\n",
       "        vertical-align: top;\n",
       "    }\n",
       "\n",
       "    .dataframe thead th {\n",
       "        text-align: right;\n",
       "    }\n",
       "</style>\n",
       "<table border=\"1\" class=\"dataframe\">\n",
       "  <thead>\n",
       "    <tr style=\"text-align: right;\">\n",
       "      <th></th>\n",
       "      <th>Id</th>\n",
       "      <th>County</th>\n",
       "      <th>Province_State</th>\n",
       "      <th>Country_Region</th>\n",
       "      <th>Population</th>\n",
       "      <th>Weight</th>\n",
       "      <th>Date</th>\n",
       "      <th>Target</th>\n",
       "      <th>TargetValue</th>\n",
       "      <th>location</th>\n",
       "    </tr>\n",
       "  </thead>\n",
       "  <tbody>\n",
       "    <tr>\n",
       "      <td>35560</td>\n",
       "      <td>35561</td>\n",
       "      <td></td>\n",
       "      <td></td>\n",
       "      <td>France</td>\n",
       "      <td>66710000</td>\n",
       "      <td>0.055507</td>\n",
       "      <td>2020-01-23</td>\n",
       "      <td>ConfirmedCases</td>\n",
       "      <td>0</td>\n",
       "      <td>France</td>\n",
       "    </tr>\n",
       "    <tr>\n",
       "      <td>35561</td>\n",
       "      <td>35562</td>\n",
       "      <td></td>\n",
       "      <td></td>\n",
       "      <td>France</td>\n",
       "      <td>66710000</td>\n",
       "      <td>0.555066</td>\n",
       "      <td>2020-01-23</td>\n",
       "      <td>Fatalities</td>\n",
       "      <td>0</td>\n",
       "      <td>France</td>\n",
       "    </tr>\n",
       "    <tr>\n",
       "      <td>35562</td>\n",
       "      <td>35563</td>\n",
       "      <td></td>\n",
       "      <td></td>\n",
       "      <td>France</td>\n",
       "      <td>66710000</td>\n",
       "      <td>0.055507</td>\n",
       "      <td>2020-01-24</td>\n",
       "      <td>ConfirmedCases</td>\n",
       "      <td>2</td>\n",
       "      <td>France</td>\n",
       "    </tr>\n",
       "    <tr>\n",
       "      <td>35563</td>\n",
       "      <td>35564</td>\n",
       "      <td></td>\n",
       "      <td></td>\n",
       "      <td>France</td>\n",
       "      <td>66710000</td>\n",
       "      <td>0.555066</td>\n",
       "      <td>2020-01-24</td>\n",
       "      <td>Fatalities</td>\n",
       "      <td>0</td>\n",
       "      <td>France</td>\n",
       "    </tr>\n",
       "    <tr>\n",
       "      <td>35564</td>\n",
       "      <td>35565</td>\n",
       "      <td></td>\n",
       "      <td></td>\n",
       "      <td>France</td>\n",
       "      <td>66710000</td>\n",
       "      <td>0.055507</td>\n",
       "      <td>2020-01-25</td>\n",
       "      <td>ConfirmedCases</td>\n",
       "      <td>1</td>\n",
       "      <td>France</td>\n",
       "    </tr>\n",
       "    <tr>\n",
       "      <td>...</td>\n",
       "      <td>...</td>\n",
       "      <td>...</td>\n",
       "      <td>...</td>\n",
       "      <td>...</td>\n",
       "      <td>...</td>\n",
       "      <td>...</td>\n",
       "      <td>...</td>\n",
       "      <td>...</td>\n",
       "      <td>...</td>\n",
       "      <td>...</td>\n",
       "    </tr>\n",
       "    <tr>\n",
       "      <td>967115</td>\n",
       "      <td>967116</td>\n",
       "      <td></td>\n",
       "      <td></td>\n",
       "      <td>United Kingdom</td>\n",
       "      <td>65110000</td>\n",
       "      <td>0.555815</td>\n",
       "      <td>2020-06-08</td>\n",
       "      <td>Fatalities</td>\n",
       "      <td>55</td>\n",
       "      <td>United Kingdom</td>\n",
       "    </tr>\n",
       "    <tr>\n",
       "      <td>967116</td>\n",
       "      <td>967117</td>\n",
       "      <td></td>\n",
       "      <td></td>\n",
       "      <td>United Kingdom</td>\n",
       "      <td>65110000</td>\n",
       "      <td>0.055582</td>\n",
       "      <td>2020-06-09</td>\n",
       "      <td>ConfirmedCases</td>\n",
       "      <td>1741</td>\n",
       "      <td>United Kingdom</td>\n",
       "    </tr>\n",
       "    <tr>\n",
       "      <td>967117</td>\n",
       "      <td>967118</td>\n",
       "      <td></td>\n",
       "      <td></td>\n",
       "      <td>United Kingdom</td>\n",
       "      <td>65110000</td>\n",
       "      <td>0.555815</td>\n",
       "      <td>2020-06-09</td>\n",
       "      <td>Fatalities</td>\n",
       "      <td>286</td>\n",
       "      <td>United Kingdom</td>\n",
       "    </tr>\n",
       "    <tr>\n",
       "      <td>967118</td>\n",
       "      <td>967119</td>\n",
       "      <td></td>\n",
       "      <td></td>\n",
       "      <td>United Kingdom</td>\n",
       "      <td>65110000</td>\n",
       "      <td>0.055582</td>\n",
       "      <td>2020-06-10</td>\n",
       "      <td>ConfirmedCases</td>\n",
       "      <td>1003</td>\n",
       "      <td>United Kingdom</td>\n",
       "    </tr>\n",
       "    <tr>\n",
       "      <td>967119</td>\n",
       "      <td>967120</td>\n",
       "      <td></td>\n",
       "      <td></td>\n",
       "      <td>United Kingdom</td>\n",
       "      <td>65110000</td>\n",
       "      <td>0.555815</td>\n",
       "      <td>2020-06-10</td>\n",
       "      <td>Fatalities</td>\n",
       "      <td>245</td>\n",
       "      <td>United Kingdom</td>\n",
       "    </tr>\n",
       "  </tbody>\n",
       "</table>\n",
       "<p>1400 rows × 10 columns</p>\n",
       "</div>"
      ],
      "text/plain": [
       "            Id County Province_State  Country_Region  Population    Weight  \\\n",
       "35560    35561                                France    66710000  0.055507   \n",
       "35561    35562                                France    66710000  0.555066   \n",
       "35562    35563                                France    66710000  0.055507   \n",
       "35563    35564                                France    66710000  0.555066   \n",
       "35564    35565                                France    66710000  0.055507   \n",
       "...        ...    ...            ...             ...         ...       ...   \n",
       "967115  967116                        United Kingdom    65110000  0.555815   \n",
       "967116  967117                        United Kingdom    65110000  0.055582   \n",
       "967117  967118                        United Kingdom    65110000  0.555815   \n",
       "967118  967119                        United Kingdom    65110000  0.055582   \n",
       "967119  967120                        United Kingdom    65110000  0.555815   \n",
       "\n",
       "              Date          Target  TargetValue          location  \n",
       "35560   2020-01-23  ConfirmedCases            0          France    \n",
       "35561   2020-01-23      Fatalities            0          France    \n",
       "35562   2020-01-24  ConfirmedCases            2          France    \n",
       "35563   2020-01-24      Fatalities            0          France    \n",
       "35564   2020-01-25  ConfirmedCases            1          France    \n",
       "...            ...             ...          ...               ...  \n",
       "967115  2020-06-08      Fatalities           55  United Kingdom    \n",
       "967116  2020-06-09  ConfirmedCases         1741  United Kingdom    \n",
       "967117  2020-06-09      Fatalities          286  United Kingdom    \n",
       "967118  2020-06-10  ConfirmedCases         1003  United Kingdom    \n",
       "967119  2020-06-10      Fatalities          245  United Kingdom    \n",
       "\n",
       "[1400 rows x 10 columns]"
      ]
     },
     "execution_count": 66,
     "metadata": {},
     "output_type": "execute_result"
    }
   ],
   "source": [
    "data.drop()"
   ]
  },
  {
   "cell_type": "markdown",
   "metadata": {},
   "source": [
    "<br>"
   ]
  },
  {
   "cell_type": "markdown",
   "metadata": {},
   "source": [
    "**Pivoting Data**"
   ]
  },
  {
   "cell_type": "code",
   "execution_count": 68,
   "metadata": {},
   "outputs": [],
   "source": [
    "data = pd.pivot_table(data, index=['location', 'Date'], columns='Target', values='TargetValue').reset_index()"
   ]
  },
  {
   "cell_type": "code",
   "execution_count": 69,
   "metadata": {},
   "outputs": [
    {
     "data": {
      "text/html": [
       "<div>\n",
       "<style scoped>\n",
       "    .dataframe tbody tr th:only-of-type {\n",
       "        vertical-align: middle;\n",
       "    }\n",
       "\n",
       "    .dataframe tbody tr th {\n",
       "        vertical-align: top;\n",
       "    }\n",
       "\n",
       "    .dataframe thead th {\n",
       "        text-align: right;\n",
       "    }\n",
       "</style>\n",
       "<table border=\"1\" class=\"dataframe\">\n",
       "  <thead>\n",
       "    <tr style=\"text-align: right;\">\n",
       "      <th>Target</th>\n",
       "      <th>location</th>\n",
       "      <th>Date</th>\n",
       "      <th>ConfirmedCases</th>\n",
       "      <th>Fatalities</th>\n",
       "    </tr>\n",
       "  </thead>\n",
       "  <tbody>\n",
       "    <tr>\n",
       "      <td>0</td>\n",
       "      <td>France</td>\n",
       "      <td>2020-01-23</td>\n",
       "      <td>0</td>\n",
       "      <td>0</td>\n",
       "    </tr>\n",
       "    <tr>\n",
       "      <td>1</td>\n",
       "      <td>France</td>\n",
       "      <td>2020-01-24</td>\n",
       "      <td>2</td>\n",
       "      <td>0</td>\n",
       "    </tr>\n",
       "    <tr>\n",
       "      <td>2</td>\n",
       "      <td>France</td>\n",
       "      <td>2020-01-25</td>\n",
       "      <td>1</td>\n",
       "      <td>0</td>\n",
       "    </tr>\n",
       "    <tr>\n",
       "      <td>3</td>\n",
       "      <td>France</td>\n",
       "      <td>2020-01-26</td>\n",
       "      <td>0</td>\n",
       "      <td>0</td>\n",
       "    </tr>\n",
       "    <tr>\n",
       "      <td>4</td>\n",
       "      <td>France</td>\n",
       "      <td>2020-01-27</td>\n",
       "      <td>0</td>\n",
       "      <td>0</td>\n",
       "    </tr>\n",
       "    <tr>\n",
       "      <td>...</td>\n",
       "      <td>...</td>\n",
       "      <td>...</td>\n",
       "      <td>...</td>\n",
       "      <td>...</td>\n",
       "    </tr>\n",
       "    <tr>\n",
       "      <td>695</td>\n",
       "      <td>United Kingdom</td>\n",
       "      <td>2020-06-06</td>\n",
       "      <td>1557</td>\n",
       "      <td>204</td>\n",
       "    </tr>\n",
       "    <tr>\n",
       "      <td>696</td>\n",
       "      <td>United Kingdom</td>\n",
       "      <td>2020-06-07</td>\n",
       "      <td>1326</td>\n",
       "      <td>77</td>\n",
       "    </tr>\n",
       "    <tr>\n",
       "      <td>697</td>\n",
       "      <td>United Kingdom</td>\n",
       "      <td>2020-06-08</td>\n",
       "      <td>1205</td>\n",
       "      <td>55</td>\n",
       "    </tr>\n",
       "    <tr>\n",
       "      <td>698</td>\n",
       "      <td>United Kingdom</td>\n",
       "      <td>2020-06-09</td>\n",
       "      <td>1741</td>\n",
       "      <td>286</td>\n",
       "    </tr>\n",
       "    <tr>\n",
       "      <td>699</td>\n",
       "      <td>United Kingdom</td>\n",
       "      <td>2020-06-10</td>\n",
       "      <td>1003</td>\n",
       "      <td>245</td>\n",
       "    </tr>\n",
       "  </tbody>\n",
       "</table>\n",
       "<p>700 rows × 4 columns</p>\n",
       "</div>"
      ],
      "text/plain": [
       "Target          location        Date  ConfirmedCases  Fatalities\n",
       "0               France    2020-01-23               0           0\n",
       "1               France    2020-01-24               2           0\n",
       "2               France    2020-01-25               1           0\n",
       "3               France    2020-01-26               0           0\n",
       "4               France    2020-01-27               0           0\n",
       "..                   ...         ...             ...         ...\n",
       "695     United Kingdom    2020-06-06            1557         204\n",
       "696     United Kingdom    2020-06-07            1326          77\n",
       "697     United Kingdom    2020-06-08            1205          55\n",
       "698     United Kingdom    2020-06-09            1741         286\n",
       "699     United Kingdom    2020-06-10            1003         245\n",
       "\n",
       "[700 rows x 4 columns]"
      ]
     },
     "execution_count": 69,
     "metadata": {},
     "output_type": "execute_result"
    }
   ],
   "source": [
    "data"
   ]
  },
  {
   "cell_type": "markdown",
   "metadata": {},
   "source": [
    "<br>"
   ]
  },
  {
   "cell_type": "markdown",
   "metadata": {},
   "source": [
    "**Joining Latitude and Longitude**"
   ]
  },
  {
   "cell_type": "code",
   "execution_count": 70,
   "metadata": {},
   "outputs": [],
   "source": [
    "#coordinates = pd.read_csv(os.path.join(os.getcwd(), 'Data', 'other', 'coordinates.csv'))\n",
    "coordinates = pd.read_csv('../Data/other/coordinates.csv')"
   ]
  },
  {
   "cell_type": "code",
   "execution_count": 71,
   "metadata": {},
   "outputs": [
    {
     "data": {
      "text/html": [
       "<div>\n",
       "<style scoped>\n",
       "    .dataframe tbody tr th:only-of-type {\n",
       "        vertical-align: middle;\n",
       "    }\n",
       "\n",
       "    .dataframe tbody tr th {\n",
       "        vertical-align: top;\n",
       "    }\n",
       "\n",
       "    .dataframe thead th {\n",
       "        text-align: right;\n",
       "    }\n",
       "</style>\n",
       "<table border=\"1\" class=\"dataframe\">\n",
       "  <thead>\n",
       "    <tr style=\"text-align: right;\">\n",
       "      <th></th>\n",
       "      <th>Location</th>\n",
       "      <th>Longitude</th>\n",
       "      <th>Latitude</th>\n",
       "    </tr>\n",
       "  </thead>\n",
       "  <tbody>\n",
       "    <tr>\n",
       "      <td>0</td>\n",
       "      <td>Afghanistan</td>\n",
       "      <td>66.238514</td>\n",
       "      <td>33.768006</td>\n",
       "    </tr>\n",
       "    <tr>\n",
       "      <td>1</td>\n",
       "      <td>Albania</td>\n",
       "      <td>19.999962</td>\n",
       "      <td>41.000028</td>\n",
       "    </tr>\n",
       "    <tr>\n",
       "      <td>2</td>\n",
       "      <td>Algeria</td>\n",
       "      <td>2.999983</td>\n",
       "      <td>28.000027</td>\n",
       "    </tr>\n",
       "    <tr>\n",
       "      <td>3</td>\n",
       "      <td>Andorra</td>\n",
       "      <td>1.573203</td>\n",
       "      <td>42.540717</td>\n",
       "    </tr>\n",
       "    <tr>\n",
       "      <td>4</td>\n",
       "      <td>Angola</td>\n",
       "      <td>17.569124</td>\n",
       "      <td>-11.877577</td>\n",
       "    </tr>\n",
       "  </tbody>\n",
       "</table>\n",
       "</div>"
      ],
      "text/plain": [
       "        Location  Longitude   Latitude\n",
       "0  Afghanistan    66.238514  33.768006\n",
       "1      Albania    19.999962  41.000028\n",
       "2      Algeria     2.999983  28.000027\n",
       "3      Andorra     1.573203  42.540717\n",
       "4       Angola    17.569124 -11.877577"
      ]
     },
     "execution_count": 71,
     "metadata": {},
     "output_type": "execute_result"
    }
   ],
   "source": [
    "coordinates.head()"
   ]
  },
  {
   "cell_type": "code",
   "execution_count": 72,
   "metadata": {},
   "outputs": [],
   "source": [
    "df = data.merge(coordinates, how='inner', left_on='location', right_on='Location')\n",
    "data = df.merge(population, how='left', left_on='location', right_on='location')"
   ]
  },
  {
   "cell_type": "code",
   "execution_count": 73,
   "metadata": {},
   "outputs": [],
   "source": [
    "data = data.drop(['Location', 'location', 'Date'], axis=1)"
   ]
  },
  {
   "cell_type": "code",
   "execution_count": 74,
   "metadata": {},
   "outputs": [
    {
     "data": {
      "text/html": [
       "<div>\n",
       "<style scoped>\n",
       "    .dataframe tbody tr th:only-of-type {\n",
       "        vertical-align: middle;\n",
       "    }\n",
       "\n",
       "    .dataframe tbody tr th {\n",
       "        vertical-align: top;\n",
       "    }\n",
       "\n",
       "    .dataframe thead th {\n",
       "        text-align: right;\n",
       "    }\n",
       "</style>\n",
       "<table border=\"1\" class=\"dataframe\">\n",
       "  <thead>\n",
       "    <tr style=\"text-align: right;\">\n",
       "      <th></th>\n",
       "      <th>ConfirmedCases</th>\n",
       "      <th>Fatalities</th>\n",
       "      <th>Longitude</th>\n",
       "      <th>Latitude</th>\n",
       "      <th>Population</th>\n",
       "    </tr>\n",
       "  </thead>\n",
       "  <tbody>\n",
       "    <tr>\n",
       "      <td>0</td>\n",
       "      <td>0</td>\n",
       "      <td>0</td>\n",
       "      <td>1.888333</td>\n",
       "      <td>46.603354</td>\n",
       "      <td>66710000</td>\n",
       "    </tr>\n",
       "    <tr>\n",
       "      <td>1</td>\n",
       "      <td>2</td>\n",
       "      <td>0</td>\n",
       "      <td>1.888333</td>\n",
       "      <td>46.603354</td>\n",
       "      <td>66710000</td>\n",
       "    </tr>\n",
       "    <tr>\n",
       "      <td>2</td>\n",
       "      <td>1</td>\n",
       "      <td>0</td>\n",
       "      <td>1.888333</td>\n",
       "      <td>46.603354</td>\n",
       "      <td>66710000</td>\n",
       "    </tr>\n",
       "    <tr>\n",
       "      <td>3</td>\n",
       "      <td>0</td>\n",
       "      <td>0</td>\n",
       "      <td>1.888333</td>\n",
       "      <td>46.603354</td>\n",
       "      <td>66710000</td>\n",
       "    </tr>\n",
       "    <tr>\n",
       "      <td>4</td>\n",
       "      <td>0</td>\n",
       "      <td>0</td>\n",
       "      <td>1.888333</td>\n",
       "      <td>46.603354</td>\n",
       "      <td>66710000</td>\n",
       "    </tr>\n",
       "  </tbody>\n",
       "</table>\n",
       "</div>"
      ],
      "text/plain": [
       "   ConfirmedCases  Fatalities  Longitude   Latitude  Population\n",
       "0               0           0   1.888333  46.603354    66710000\n",
       "1               2           0   1.888333  46.603354    66710000\n",
       "2               1           0   1.888333  46.603354    66710000\n",
       "3               0           0   1.888333  46.603354    66710000\n",
       "4               0           0   1.888333  46.603354    66710000"
      ]
     },
     "execution_count": 74,
     "metadata": {},
     "output_type": "execute_result"
    }
   ],
   "source": [
    "data.head()"
   ]
  },
  {
   "cell_type": "markdown",
   "metadata": {},
   "source": [
    "<br>"
   ]
  },
  {
   "cell_type": "markdown",
   "metadata": {},
   "source": [
    "**Scaling Variables**"
   ]
  },
  {
   "cell_type": "code",
   "execution_count": 76,
   "metadata": {},
   "outputs": [],
   "source": [
    "# Scaling Variables\n",
    "from sklearn.preprocessing import MinMaxScaler\n",
    "scaler = MinMaxScaler()\n",
    "scaler = scaler.fit(data)\n",
    "scaled_data = scaler.transform(data)"
   ]
  },
  {
   "cell_type": "markdown",
   "metadata": {},
   "source": [
    "<br>"
   ]
  },
  {
   "cell_type": "markdown",
   "metadata": {},
   "source": [
    "**Creating Numpy Array**"
   ]
  },
  {
   "cell_type": "code",
   "execution_count": 77,
   "metadata": {},
   "outputs": [],
   "source": [
    "dataset = np.array(scaled_data).reshape(-1, 140, 5)\n",
    "train = dataset[:, :95, :]\n",
    "test  = dataset[:, 95:, :]"
   ]
  },
  {
   "cell_type": "markdown",
   "metadata": {},
   "source": [
    "<br>"
   ]
  },
  {
   "cell_type": "markdown",
   "metadata": {},
   "source": [
    "**Creating Sequences**"
   ]
  },
  {
   "cell_type": "code",
   "execution_count": 82,
   "metadata": {},
   "outputs": [],
   "source": [
    "def create_sequences(data, seq_length, n_features=2):\n",
    "    \n",
    "    X = np.zeros((data.shape[0], data.shape[1] -seq_length -1, seq_length, data.shape[2]))\n",
    "    Y = np.zeros((data.shape[0], data.shape[1] -seq_length -1, n_features))\n",
    "    \n",
    "    for batch in range(X.shape[0]):\n",
    "        \n",
    "        xs = []; ys = []\n",
    "        country = data[batch]\n",
    "        \n",
    "        for i in range(len(country) -seq_length -1):\n",
    "            x = data[batch][i:(i+seq_length)]\n",
    "            y = data[batch][i+seq_length]\n",
    "            xs.append(x)\n",
    "            ys.append(y)\n",
    "            \n",
    "        #pdb.set_trace()\n",
    "        X[batch, :, :, :] = np.array(xs)\n",
    "        Y[batch, :,  :]   = np.array(ys)[:, :2]\n",
    "        \n",
    "    return X, Y"
   ]
  },
  {
   "cell_type": "code",
   "execution_count": 83,
   "metadata": {},
   "outputs": [],
   "source": [
    "seq_length = 25\n",
    "X_train, y_train = create_sequences(train, seq_length=seq_length, n_features=2)\n",
    "X_test,  y_test  = create_sequences(test, seq_length=seq_length, n_features=2)"
   ]
  },
  {
   "cell_type": "code",
   "execution_count": 87,
   "metadata": {},
   "outputs": [],
   "source": [
    "X_train, y_train = torch.from_numpy(X_train).float(), torch.from_numpy(y_train).float()\n",
    "X_test, y_test = torch.from_numpy(X_test).float(), torch.from_numpy(y_test).float()"
   ]
  },
  {
   "cell_type": "code",
   "execution_count": 88,
   "metadata": {},
   "outputs": [],
   "source": [
    "trainset = torch.utils.data.TensorDataset(X_train, y_train)\n",
    "testset  = torch.utils.data.TensorDataset(X_test, y_test)"
   ]
  },
  {
   "cell_type": "code",
   "execution_count": 89,
   "metadata": {},
   "outputs": [],
   "source": [
    "trainloader = torch.utils.data.DataLoader(trainset, batch_size=1, shuffle=True)\n",
    "testloader  = torch.utils.data.DataLoader(testset, batch_size=1, shuffle=True)"
   ]
  },
  {
   "cell_type": "markdown",
   "metadata": {},
   "source": [
    "<br>"
   ]
  },
  {
   "cell_type": "markdown",
   "metadata": {},
   "source": [
    "### Modeling"
   ]
  },
  {
   "cell_type": "code",
   "execution_count": 90,
   "metadata": {},
   "outputs": [],
   "source": [
    "torch.set_default_tensor_type(torch.FloatTensor)"
   ]
  },
  {
   "cell_type": "markdown",
   "metadata": {},
   "source": [
    "<br>"
   ]
  },
  {
   "cell_type": "markdown",
   "metadata": {},
   "source": [
    "**Save Model**"
   ]
  },
  {
   "cell_type": "code",
   "execution_count": 104,
   "metadata": {},
   "outputs": [],
   "source": [
    "def path_model(model):\n",
    "    #PATH1 = os.path.join(os.getcwd(), 'Models', f'{model}_model')\n",
    "    PATH1 = f'../Models/{model}_model'\n",
    "    #PATH2 = os.path.join(os.getcwd(), 'Models', f'{model}_state_dictionary')\n",
    "    PATH2 = f'../Models/{model}_state_dictionary'\n",
    "    return PATH1, PATH2"
   ]
  },
  {
   "cell_type": "markdown",
   "metadata": {},
   "source": [
    "<br>"
   ]
  },
  {
   "cell_type": "markdown",
   "metadata": {},
   "source": [
    "<br>"
   ]
  },
  {
   "cell_type": "markdown",
   "metadata": {},
   "source": [
    "**Training**"
   ]
  },
  {
   "cell_type": "code",
   "execution_count": 196,
   "metadata": {},
   "outputs": [],
   "source": [
    "def train_model(model: torch.nn.Module, train: torch.utils.data.DataLoader, test: torch.utils.data.DataLoader, epochs: int, net):\n",
    "    \n",
    "    #Initializing Variables to store information\n",
    "    min_loss   = float('inf')\n",
    "    train_loss = 0\n",
    "    test_loss  = 0\n",
    "    train_history = []\n",
    "    test_history  = []\n",
    "    \n",
    "    for epoch in range(epochs):\n",
    "        \n",
    "        train_loss = 0\n",
    "        test_loss  = 0\n",
    "    \n",
    "        model.train()\n",
    "        for _, data in enumerate(train):\n",
    "        \n",
    "            if net != 'CNN': model.reset_hidden_state()\n",
    "            optimizer.zero_grad()\n",
    "            \n",
    "            X_train, y_train = data\n",
    "            X_train, y_train = Variable(torch.squeeze(X_train)), Variable(torch.squeeze(y_train))\n",
    "            if net == 'CNN': X_train = X_train.transpose(1, 2)\n",
    "            y_hat = model(X_train)\n",
    "            \n",
    "            loss  = criterion(y_hat, y_train)\n",
    "            loss.backward()\n",
    "            optimizer.step()\n",
    "            \n",
    "            train_loss += loss.item() \n",
    "            \n",
    "        train_history.append(train_loss)\n",
    "        \n",
    "        model.eval()\n",
    "        for _, data in enumerate(test):\n",
    "            \n",
    "            X_test, y_test = data\n",
    "            X_test, y_test = torch.squeeze(X_test), torch.squeeze(y_test)\n",
    "            if net == 'CNN': X_test = X_test.transpose(1, 2)\n",
    "            y_hat = model(X_test)\n",
    "            \n",
    "            test_loss += criterion(y_hat, y_test).item() \n",
    "       \n",
    "        test_history.append(test_loss)\n",
    "        \n",
    "        train_loss     = str(train_loss/len(train.dataset))[:4]\n",
    "        test_loss      = test_loss/len(test.dataset)\n",
    "        \n",
    "        if test_loss < min_loss:\n",
    "            min_test_loss = test_loss\n",
    "            \n",
    "            #Save Model\n",
    "            path1, path2 = path_model(net)\n",
    "            torch.save(model, path1)\n",
    "            torch.save(model.state_dict(), path2)\n",
    "        \n",
    "        if epoch == 0:\n",
    "            string = f'''| Epoch: {epoch + 1}   | Train Loss: {train_loss} | Test Loss: {str(test_loss)[:4]} |'''\n",
    "            print('-'*len(string)); print(string); print('-'*len(string))\n",
    "    \n",
    "        #elif ((epoch + 1) % 100 == 0) & (epoch < 100):\n",
    "        #    string = f'''| Epoch: {epoch + 1}  | Train Loss: {train_loss} | Test Loss: {str(test_loss)[:4]} |'''\n",
    "        #    print(string); print('-'*len(string))\n",
    "            \n",
    "        elif ((epoch + 1) % 100 == 0) & (epoch >= 100):\n",
    "            string = f'''| Epoch: {epoch + 1} | Train Loss: {train_loss} | Test Loss: {str(test_loss)[:4]} |'''\n",
    "            print(string); print('-'*len(string))\n",
    "        \n",
    "    return model.eval(), train_history, test_history"
   ]
  },
  {
   "cell_type": "markdown",
   "metadata": {},
   "source": [
    "<br>"
   ]
  },
  {
   "cell_type": "markdown",
   "metadata": {},
   "source": [
    "#### Artificial Neural Network"
   ]
  },
  {
   "cell_type": "code",
   "execution_count": null,
   "metadata": {},
   "outputs": [],
   "source": []
  },
  {
   "cell_type": "code",
   "execution_count": null,
   "metadata": {},
   "outputs": [],
   "source": []
  },
  {
   "cell_type": "markdown",
   "metadata": {},
   "source": [
    "<br>"
   ]
  },
  {
   "cell_type": "markdown",
   "metadata": {},
   "source": [
    "#### Convolutional Neural Network"
   ]
  },
  {
   "cell_type": "code",
   "execution_count": 197,
   "metadata": {},
   "outputs": [],
   "source": [
    "class CNN(nn.Module):\n",
    "    def __init__(self, n_features=5, seq_len=25, n_output=2):\n",
    "        super().__init__()\n",
    "        self.n_features = n_features\n",
    "        self.seq_len = seq_len\n",
    "        self.conv1d = nn.Conv1d(in_channels=n_features, out_channels=64, kernel_size=1, bias=True) #in: 25, out: 25\n",
    "        self.fc1    = nn.Linear(in_features=64 * seq_len, out_features=50, bias=True)\n",
    "        self.relu   = nn.ReLU(inplace=True)\n",
    "        self.fc2    = nn.Linear(in_features=50, out_features=n_output)\n",
    "        \n",
    "    def forward(self,x):\n",
    "        x = self.conv1d(x)\n",
    "        x = x.view(-1, 64 * self.seq_len)\n",
    "        x = self.fc1(x)\n",
    "        x = self.relu(x)\n",
    "        x = self.fc2(x)\n",
    "        \n",
    "        return x"
   ]
  },
  {
   "cell_type": "code",
   "execution_count": 198,
   "metadata": {},
   "outputs": [],
   "source": [
    "criterion = torch.nn.MSELoss(reduction='sum')\n",
    "model     = CNN(n_features=5, seq_len=25, n_output=2)\n",
    "optimizer = torch.optim.Adam(model.parameters(), lr=0.00025)"
   ]
  },
  {
   "cell_type": "code",
   "execution_count": 200,
   "metadata": {},
   "outputs": [
    {
     "name": "stdout",
     "output_type": "stream",
     "text": [
      "---------------------------------------------------\n",
      "| Epoch: 1   | Train Loss: 2.69 | Test Loss: 0.86 |\n",
      "---------------------------------------------------\n",
      "| Epoch: 200 | Train Loss: 0.37 | Test Loss: 0.13 |\n",
      "---------------------------------------------------\n",
      "| Epoch: 300 | Train Loss: 0.26 | Test Loss: 0.10 |\n",
      "---------------------------------------------------\n",
      "| Epoch: 400 | Train Loss: 0.44 | Test Loss: 0.21 |\n",
      "---------------------------------------------------\n",
      "| Epoch: 500 | Train Loss: 0.25 | Test Loss: 0.10 |\n",
      "---------------------------------------------------\n",
      "| Epoch: 600 | Train Loss: 0.23 | Test Loss: 0.11 |\n",
      "---------------------------------------------------\n",
      "| Epoch: 700 | Train Loss: 0.29 | Test Loss: 0.11 |\n",
      "---------------------------------------------------\n",
      "| Epoch: 800 | Train Loss: 0.22 | Test Loss: 0.11 |\n",
      "---------------------------------------------------\n",
      "| Epoch: 900 | Train Loss: 0.24 | Test Loss: 0.16 |\n",
      "---------------------------------------------------\n",
      "| Epoch: 1000 | Train Loss: 0.20 | Test Loss: 0.12 |\n",
      "----------------------------------------------------\n"
     ]
    }
   ],
   "source": [
    "cnn, train_history, test_history = train_model(model, trainloader, testloader, 1000, net='CNN')"
   ]
  },
  {
   "cell_type": "code",
   "execution_count": 201,
   "metadata": {},
   "outputs": [
    {
     "data": {
      "text/plain": [
       "<matplotlib.legend.Legend at 0x7fb272c9a890>"
      ]
     },
     "execution_count": 201,
     "metadata": {},
     "output_type": "execute_result"
    },
    {
     "data": {
      "image/png": "[encoded data removed]",
      "text/plain": [
       "<Figure size 1440x576 with 1 Axes>"
      ]
     },
     "metadata": {
      "needs_background": "light"
     },
     "output_type": "display_data"
    }
   ],
   "source": [
    "plt.figure(figsize=(20, 8))\n",
    "\n",
    "plt.title('Train & Test Loss')\n",
    "plt.plot(train_history, color='#000E43', label = 'Train Loss')\n",
    "plt.plot(test_history, color='#22906F', label = 'Test Loss')\n",
    "plt.legend()"
   ]
  },
  {
   "cell_type": "markdown",
   "metadata": {},
   "source": [
    "<br>"
   ]
  },
  {
   "cell_type": "markdown",
   "metadata": {},
   "source": [
    "#### Recurrent Neural Network"
   ]
  },
  {
   "cell_type": "markdown",
   "metadata": {},
   "source": []
  },
  {
   "cell_type": "code",
   "execution_count": 363,
   "metadata": {},
   "outputs": [
    {
     "data": {
      "text/plain": [
       "torch.Size([28, 69, 25, 5])"
      ]
     },
     "execution_count": 363,
     "metadata": {},
     "output_type": "execute_result"
    }
   ],
   "source": []
  },
  {
   "cell_type": "markdown",
   "metadata": {},
   "source": [
    "<br>"
   ]
  },
  {
   "cell_type": "markdown",
   "metadata": {},
   "source": [
    "#### Gated Recurrent Unit"
   ]
  },
  {
   "cell_type": "code",
   "execution_count": 263,
   "metadata": {},
   "outputs": [],
   "source": [
    "class GRU(nn.Module):\n",
    "    def __init__(self, n_input, n_hidden, n_output, seq_len, n_layers=2):\n",
    "        super().__init__()\n",
    "        #pdb.set_trace()\n",
    "        self.n_hidden   = n_hidden\n",
    "        self.seq_len    = seq_len\n",
    "        self.n_layers   = n_layers\n",
    "        \n",
    "        self.gru = nn.GRU(n_input, n_hidden, n_layers, dropout=0.01)\n",
    "        self.fc  = nn.Linear(n_hidden, n_output)\n",
    "        \n",
    "    def forward(self, x):\n",
    "        #pdb.set_trace()\n",
    "        gru_out, self.hidden = self.gru(x.view(len(x), self.seq_len, -1), self.hidden)\n",
    "        last_time_step = gru_out.reshape(self.seq_len, len(x), self.n_hidden)[-1]\n",
    "        out    = self.fc(last_time_step)\n",
    "        return out\n",
    "    \n",
    "    def reset_hidden_state(self):\n",
    "        self.hidden = torch.zeros(self.n_layers, self.seq_len, self.n_hidden)"
   ]
  },
  {
   "cell_type": "code",
   "execution_count": 264,
   "metadata": {},
   "outputs": [],
   "source": [
    "criterion = torch.nn.MSELoss(reduction='sum')\n",
    "model     = GRU(n_input=5, n_hidden=512, seq_len=25, n_output=2, n_layers=2)\n",
    "optimizer = torch.optim.Adam(model.parameters(), lr=0.00025)"
   ]
  },
  {
   "cell_type": "code",
   "execution_count": 265,
   "metadata": {},
   "outputs": [
    {
     "name": "stdout",
     "output_type": "stream",
     "text": [
      "---------------------------------------------------\n",
      "| Epoch: 1   | Train Loss: 25.0 | Test Loss: 0.73 |\n",
      "---------------------------------------------------\n",
      "| Epoch: 10  | Train Loss: 1.00 | Test Loss: 0.08 |\n",
      "---------------------------------------------------\n",
      "| Epoch: 20  | Train Loss: 0.96 | Test Loss: 0.07 |\n",
      "---------------------------------------------------\n",
      "| Epoch: 30  | Train Loss: 0.97 | Test Loss: 0.07 |\n",
      "---------------------------------------------------\n",
      "| Epoch: 40  | Train Loss: 0.96 | Test Loss: 0.07 |\n",
      "---------------------------------------------------\n",
      "| Epoch: 50  | Train Loss: 0.96 | Test Loss: 0.08 |\n",
      "---------------------------------------------------\n",
      "| Epoch: 60  | Train Loss: 0.96 | Test Loss: 0.08 |\n",
      "---------------------------------------------------\n",
      "| Epoch: 70  | Train Loss: 0.95 | Test Loss: 0.08 |\n",
      "---------------------------------------------------\n",
      "| Epoch: 80  | Train Loss: 0.96 | Test Loss: 0.08 |\n",
      "---------------------------------------------------\n",
      "| Epoch: 90  | Train Loss: 0.97 | Test Loss: 0.08 |\n",
      "---------------------------------------------------\n"
     ]
    }
   ],
   "source": [
    "gru, train_history, test_history = train_model(model, trainloader, testloader, 100, net='GRU')"
   ]
  },
  {
   "cell_type": "code",
   "execution_count": 271,
   "metadata": {},
   "outputs": [
    {
     "data": {
      "text/plain": [
       "(0, 125)"
      ]
     },
     "execution_count": 271,
     "metadata": {},
     "output_type": "execute_result"
    },
    {
     "data": {
      "image/png": "[encoded data removed]",
      "text/plain": [
       "<Figure size 1440x576 with 1 Axes>"
      ]
     },
     "metadata": {
      "needs_background": "light"
     },
     "output_type": "display_data"
    }
   ],
   "source": [
    "plt.figure(figsize=(20, 8))\n",
    "\n",
    "plt.title('Train & Test Loss')\n",
    "plt.plot(train_history, color='#000E43', label = 'Confirmed Cases')\n",
    "plt.plot(test_history, color='#22906F', label = 'Fatalities')\n",
    "plt.ylim((0, 125))"
   ]
  },
  {
   "cell_type": "markdown",
   "metadata": {},
   "source": [
    "<br>"
   ]
  },
  {
   "cell_type": "markdown",
   "metadata": {},
   "source": [
    "#### Long-Short Term Memory"
   ]
  },
  {
   "cell_type": "code",
   "execution_count": 105,
   "metadata": {},
   "outputs": [],
   "source": [
    "class LSTM(nn.Module):\n",
    "    def __init__(self, n_features, n_hidden, seq_len, n_layers):\n",
    "        super().__init__()\n",
    "        self.n_hidden = n_hidden\n",
    "        self.seq_len  = seq_len\n",
    "        self.n_layers = n_layers\n",
    "        \n",
    "        self.lstm = nn.LSTM(input_size=n_features,\n",
    "                            hidden_size=n_hidden,\n",
    "                            num_layers=n_layers,\n",
    "                            dropout=0.01)\n",
    "        \n",
    "        self.linear = nn.Linear(in_features=n_hidden, out_features=2)\n",
    "     \n",
    "    def reset_hidden_state(self):\n",
    "        self.hidden = (torch.zeros(self.n_layers, self.seq_len, self.n_hidden),\n",
    "                       torch.zeros(self.n_layers, self.seq_len, self.n_hidden))\n",
    "            \n",
    "    def forward(self, sequences):\n",
    "        #pdb.set_trace()\n",
    "        lstm_out, self.hidden = self.lstm(sequences.view(len(sequences), self.seq_len, -1),\n",
    "                                          self.hidden)\n",
    "            \n",
    "        last_time_step = lstm_out.view(self.seq_len, len(sequences), self.n_hidden)[-1]\n",
    "        out = self.linear(last_time_step)\n",
    "        return out  "
   ]
  },
  {
   "cell_type": "code",
   "execution_count": 106,
   "metadata": {},
   "outputs": [],
   "source": [
    "criterion = torch.nn.MSELoss(reduction='sum')\n",
    "model     = LSTM(n_features=5, n_hidden=512, seq_len=25, n_layers=2)\n",
    "optimizer = torch.optim.Adam(model.parameters(), lr=0.00125)"
   ]
  },
  {
   "cell_type": "code",
   "execution_count": 107,
   "metadata": {},
   "outputs": [
    {
     "name": "stdout",
     "output_type": "stream",
     "text": [
      "---------------------------------------------------\n",
      "| Epoch: 1   | Train Loss: 34.6 | Test Loss: 1.32 |\n",
      "---------------------------------------------------\n",
      "| Epoch: 200 | Train Loss: 1.05 | Test Loss: 0.30 |\n",
      "---------------------------------------------------\n",
      "| Epoch: 300 | Train Loss: 1.03 | Test Loss: 0.25 |\n",
      "---------------------------------------------------\n",
      "| Epoch: 400 | Train Loss: 1.03 | Test Loss: 0.24 |\n",
      "---------------------------------------------------\n",
      "| Epoch: 500 | Train Loss: 1.03 | Test Loss: 0.33 |\n",
      "---------------------------------------------------\n",
      "| Epoch: 600 | Train Loss: 1.03 | Test Loss: 0.23 |\n",
      "---------------------------------------------------\n",
      "| Epoch: 700 | Train Loss: 1.01 | Test Loss: 0.45 |\n",
      "---------------------------------------------------\n",
      "| Epoch: 800 | Train Loss: 1.03 | Test Loss: 0.26 |\n",
      "---------------------------------------------------\n",
      "| Epoch: 900 | Train Loss: 1.04 | Test Loss: 0.25 |\n",
      "---------------------------------------------------\n",
      "| Epoch: 1000 | Train Loss: 1.03 | Test Loss: 0.32 |\n",
      "----------------------------------------------------\n",
      "| Epoch: 1100 | Train Loss: 1.04 | Test Loss: 0.27 |\n",
      "----------------------------------------------------\n",
      "| Epoch: 1200 | Train Loss: 1.03 | Test Loss: 0.27 |\n",
      "----------------------------------------------------\n",
      "| Epoch: 1300 | Train Loss: 1.03 | Test Loss: 0.28 |\n",
      "----------------------------------------------------\n",
      "| Epoch: 1400 | Train Loss: 1.04 | Test Loss: 0.52 |\n",
      "----------------------------------------------------\n",
      "| Epoch: 1500 | Train Loss: 1.13 | Test Loss: 0.28 |\n",
      "----------------------------------------------------\n",
      "| Epoch: 1600 | Train Loss: 1.08 | Test Loss: 0.27 |\n",
      "----------------------------------------------------\n",
      "| Epoch: 1700 | Train Loss: 1.03 | Test Loss: 0.26 |\n",
      "----------------------------------------------------\n",
      "| Epoch: 1800 | Train Loss: 1.03 | Test Loss: 0.26 |\n",
      "----------------------------------------------------\n",
      "| Epoch: 1900 | Train Loss: 1.02 | Test Loss: 0.22 |\n",
      "----------------------------------------------------\n",
      "| Epoch: 2000 | Train Loss: 1.04 | Test Loss: 0.23 |\n",
      "----------------------------------------------------\n",
      "| Epoch: 2100 | Train Loss: 1.03 | Test Loss: 0.26 |\n",
      "----------------------------------------------------\n",
      "| Epoch: 2200 | Train Loss: 1.03 | Test Loss: 0.25 |\n",
      "----------------------------------------------------\n",
      "| Epoch: 2300 | Train Loss: 1.04 | Test Loss: 0.29 |\n",
      "----------------------------------------------------\n",
      "| Epoch: 2400 | Train Loss: 1.03 | Test Loss: 0.26 |\n",
      "----------------------------------------------------\n",
      "| Epoch: 2500 | Train Loss: 1.03 | Test Loss: 0.29 |\n",
      "----------------------------------------------------\n"
     ]
    }
   ],
   "source": [
    "lstm, train_history, test_history = train_model(model, trainloader, testloader, 2500, net = 'LSTM')"
   ]
  },
  {
   "cell_type": "code",
   "execution_count": 115,
   "metadata": {},
   "outputs": [
    {
     "name": "stdout",
     "output_type": "stream",
     "text": [
      "X_train.shape: torch.Size([69, 25, 5])\n",
      "X_train.shape: torch.Size([69, 25, 5])\n",
      "X_train.shape: torch.Size([69, 25, 5])\n",
      "X_train.shape: torch.Size([69, 25, 5])\n",
      "X_train.shape: torch.Size([69, 25, 5])\n",
      "---------------------------------------------------\n",
      "| Epoch: 1   | Train Loss: 1.03 | Test Loss: 0.25 |\n",
      "---------------------------------------------------\n"
     ]
    }
   ],
   "source": [
    "lstm, train_history, test_history = train_model(model, trainloader, testloader, 1, net = 'test')"
   ]
  },
  {
   "cell_type": "code",
   "execution_count": 108,
   "metadata": {},
   "outputs": [
    {
     "data": {
      "text/plain": [
       "[<matplotlib.lines.Line2D at 0x7fb266c88910>]"
      ]
     },
     "execution_count": 108,
     "metadata": {},
     "output_type": "execute_result"
    },
    {
     "data": {
      "image/png": "[encoded data removed]",
      "text/plain": [
       "<Figure size 1440x576 with 1 Axes>"
      ]
     },
     "metadata": {
      "needs_background": "light"
     },
     "output_type": "display_data"
    }
   ],
   "source": [
    "plt.figure(figsize=(20, 8))\n",
    "\n",
    "plt.title('Train & Test Loss')\n",
    "plt.plot(train_history, color='#000E43', label = 'Train Data')\n",
    "plt.plot(test_history, color='#22906F', label = 'Test Data')\n",
    "#plt.ylim((0, 125))"
   ]
  },
  {
   "cell_type": "markdown",
   "metadata": {},
   "source": [
    "**Predict on Test**"
   ]
  },
  {
   "cell_type": "code",
   "execution_count": 109,
   "metadata": {},
   "outputs": [],
   "source": [
    "dset, _ = create_sequences(dataset, seq_length=25)\n",
    "dset = torch.from_numpy(dset).float()"
   ]
  },
  {
   "cell_type": "code",
   "execution_count": 110,
   "metadata": {},
   "outputs": [],
   "source": [
    "final = dset[4,-45:,:]\n",
    "predictions = lstm(final)"
   ]
  },
  {
   "cell_type": "code",
   "execution_count": 111,
   "metadata": {},
   "outputs": [
    {
     "data": {
      "text/plain": [
       "[<matplotlib.lines.Line2D at 0x7fb27031aa50>]"
      ]
     },
     "execution_count": 111,
     "metadata": {},
     "output_type": "execute_result"
    },
    {
     "data": {
      "image/png": "[encoded data removed]",
      "text/plain": [
       "<Figure size 432x288 with 1 Axes>"
      ]
     },
     "metadata": {
      "needs_background": "light"
     },
     "output_type": "display_data"
    }
   ],
   "source": [
    "plt.plot(dataset[4][-45:, 0])\n",
    "plt.plot(predictions[:, 0].detach().numpy())"
   ]
  },
  {
   "cell_type": "code",
   "execution_count": 112,
   "metadata": {},
   "outputs": [],
   "source": [
    "final_train = dset[2,:-45,:]\n",
    "predictions_train = lstm(final)"
   ]
  },
  {
   "cell_type": "code",
   "execution_count": 113,
   "metadata": {
    "scrolled": true
   },
   "outputs": [
    {
     "data": {
      "text/plain": [
       "[<matplotlib.lines.Line2D at 0x7fb27031e1d0>]"
      ]
     },
     "execution_count": 113,
     "metadata": {},
     "output_type": "execute_result"
    },
    {
     "data": {
      "image/png": "[encoded data removed]",
      "text/plain": [
       "<Figure size 432x288 with 1 Axes>"
      ]
     },
     "metadata": {
      "needs_background": "light"
     },
     "output_type": "display_data"
    }
   ],
   "source": [
    "plt.plot(dataset[0][-45:, 0])\n",
    "plt.plot(predictions_train[:, 0].detach().numpy())"
   ]
  },
  {
   "cell_type": "code",
   "execution_count": null,
   "metadata": {},
   "outputs": [],
   "source": []
  }
 ],
 "metadata": {
  "kernelspec": {
   "display_name": "Python 3",
   "language": "python",
   "name": "python3"
  },
  "language_info": {
   "codemirror_mode": {
    "name": "ipython",
    "version": 3
   },
   "file_extension": ".py",
   "mimetype": "text/x-python",
   "name": "python",
   "nbconvert_exporter": "python",
   "pygments_lexer": "ipython3",
   "version": "3.7.4"
  }
 },
 "nbformat": 4,
 "nbformat_minor": 4
}
