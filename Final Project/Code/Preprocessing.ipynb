{
 "cells": [
  {
   "cell_type": "markdown",
   "metadata": {},
   "source": [
    "## COVID19 Forecasting Project"
   ]
  },
  {
   "cell_type": "markdown",
   "metadata": {},
   "source": [
    "**ECE 685:** Deep Learning <br>\n",
    "**Student:** Guillem Amat, Sebastian Soriano"
   ]
  },
  {
   "cell_type": "markdown",
   "metadata": {},
   "source": [
    "<br>"
   ]
  },
  {
   "cell_type": "markdown",
   "metadata": {},
   "source": [
    "#### Loading Packages"
   ]
  },
  {
   "cell_type": "code",
   "execution_count": 365,
   "metadata": {},
   "outputs": [],
   "source": [
    "# Normal Packages\n",
    "import matplotlib.pyplot as plt\n",
    "import pandas as pd\n",
    "import numpy as np\n",
    "import pdb\n",
    "import csv\n",
    "import os"
   ]
  },
  {
   "cell_type": "code",
   "execution_count": 366,
   "metadata": {},
   "outputs": [],
   "source": [
    "# Torch Packages\n",
    "import torch\n",
    "from torch.autograd import Variable\n",
    "import torch.nn as nn\n",
    "import torch.nn.functional as F"
   ]
  },
  {
   "cell_type": "markdown",
   "metadata": {},
   "source": [
    "<br>"
   ]
  },
  {
   "cell_type": "markdown",
   "metadata": {},
   "source": [
    "#### Loading Data"
   ]
  },
  {
   "cell_type": "code",
   "execution_count": 337,
   "metadata": {},
   "outputs": [],
   "source": [
    "import warnings\n",
    "warnings.filterwarnings(\"ignore\") "
   ]
  },
  {
   "cell_type": "code",
   "execution_count": 338,
   "metadata": {},
   "outputs": [],
   "source": [
    "data = pd.read_csv(os.path.join(os.getcwd(), 'Final Project', 'Data', 'week_5', 'train.csv'))"
   ]
  },
  {
   "cell_type": "markdown",
   "metadata": {},
   "source": [
    "<br>"
   ]
  },
  {
   "cell_type": "markdown",
   "metadata": {},
   "source": [
    "**Creating Key for Location**"
   ]
  },
  {
   "cell_type": "code",
   "execution_count": 339,
   "metadata": {},
   "outputs": [
    {
     "data": {
      "text/html": [
       "<div>\n",
       "<style scoped>\n",
       "    .dataframe tbody tr th:only-of-type {\n",
       "        vertical-align: middle;\n",
       "    }\n",
       "\n",
       "    .dataframe tbody tr th {\n",
       "        vertical-align: top;\n",
       "    }\n",
       "\n",
       "    .dataframe thead th {\n",
       "        text-align: right;\n",
       "    }\n",
       "</style>\n",
       "<table border=\"1\" class=\"dataframe\">\n",
       "  <thead>\n",
       "    <tr style=\"text-align: right;\">\n",
       "      <th></th>\n",
       "      <th>Id</th>\n",
       "      <th>County</th>\n",
       "      <th>Province_State</th>\n",
       "      <th>Country_Region</th>\n",
       "      <th>Population</th>\n",
       "      <th>Weight</th>\n",
       "      <th>Date</th>\n",
       "      <th>Target</th>\n",
       "      <th>TargetValue</th>\n",
       "    </tr>\n",
       "  </thead>\n",
       "  <tbody>\n",
       "    <tr>\n",
       "      <th>0</th>\n",
       "      <td>1</td>\n",
       "      <td>NaN</td>\n",
       "      <td>NaN</td>\n",
       "      <td>Afghanistan</td>\n",
       "      <td>27657145</td>\n",
       "      <td>0.058359</td>\n",
       "      <td>1/23/2020</td>\n",
       "      <td>ConfirmedCases</td>\n",
       "      <td>0</td>\n",
       "    </tr>\n",
       "    <tr>\n",
       "      <th>1</th>\n",
       "      <td>2</td>\n",
       "      <td>NaN</td>\n",
       "      <td>NaN</td>\n",
       "      <td>Afghanistan</td>\n",
       "      <td>27657145</td>\n",
       "      <td>0.583587</td>\n",
       "      <td>1/23/2020</td>\n",
       "      <td>Fatalities</td>\n",
       "      <td>0</td>\n",
       "    </tr>\n",
       "    <tr>\n",
       "      <th>2</th>\n",
       "      <td>3</td>\n",
       "      <td>NaN</td>\n",
       "      <td>NaN</td>\n",
       "      <td>Afghanistan</td>\n",
       "      <td>27657145</td>\n",
       "      <td>0.058359</td>\n",
       "      <td>1/24/2020</td>\n",
       "      <td>ConfirmedCases</td>\n",
       "      <td>0</td>\n",
       "    </tr>\n",
       "    <tr>\n",
       "      <th>3</th>\n",
       "      <td>4</td>\n",
       "      <td>NaN</td>\n",
       "      <td>NaN</td>\n",
       "      <td>Afghanistan</td>\n",
       "      <td>27657145</td>\n",
       "      <td>0.583587</td>\n",
       "      <td>1/24/2020</td>\n",
       "      <td>Fatalities</td>\n",
       "      <td>0</td>\n",
       "    </tr>\n",
       "    <tr>\n",
       "      <th>4</th>\n",
       "      <td>5</td>\n",
       "      <td>NaN</td>\n",
       "      <td>NaN</td>\n",
       "      <td>Afghanistan</td>\n",
       "      <td>27657145</td>\n",
       "      <td>0.058359</td>\n",
       "      <td>1/25/2020</td>\n",
       "      <td>ConfirmedCases</td>\n",
       "      <td>0</td>\n",
       "    </tr>\n",
       "  </tbody>\n",
       "</table>\n",
       "</div>"
      ],
      "text/plain": [
       "   Id County Province_State Country_Region  Population    Weight       Date  \\\n",
       "0   1    NaN            NaN    Afghanistan    27657145  0.058359  1/23/2020   \n",
       "1   2    NaN            NaN    Afghanistan    27657145  0.583587  1/23/2020   \n",
       "2   3    NaN            NaN    Afghanistan    27657145  0.058359  1/24/2020   \n",
       "3   4    NaN            NaN    Afghanistan    27657145  0.583587  1/24/2020   \n",
       "4   5    NaN            NaN    Afghanistan    27657145  0.058359  1/25/2020   \n",
       "\n",
       "           Target  TargetValue  \n",
       "0  ConfirmedCases            0  \n",
       "1      Fatalities            0  \n",
       "2  ConfirmedCases            0  \n",
       "3      Fatalities            0  \n",
       "4  ConfirmedCases            0  "
      ]
     },
     "execution_count": 339,
     "metadata": {},
     "output_type": "execute_result"
    }
   ],
   "source": [
    "data.head()"
   ]
  },
  {
   "cell_type": "code",
   "execution_count": 340,
   "metadata": {},
   "outputs": [],
   "source": [
    "data['County']         = data['County'].fillna('')\n",
    "data['Province_State'] = data['Province_State'].fillna('')"
   ]
  },
  {
   "cell_type": "code",
   "execution_count": 341,
   "metadata": {},
   "outputs": [],
   "source": [
    "location = data['Country_Region'] + data['Province_State'] + data['County']"
   ]
  },
  {
   "cell_type": "code",
   "execution_count": 342,
   "metadata": {},
   "outputs": [],
   "source": [
    "locations = list(np.unique(location))"
   ]
  },
  {
   "cell_type": "code",
   "execution_count": 343,
   "metadata": {},
   "outputs": [],
   "source": [
    "location_dictionary = {i: l for (i, l) in enumerate(locations)}"
   ]
  },
  {
   "cell_type": "code",
   "execution_count": 344,
   "metadata": {},
   "outputs": [
    {
     "name": "stdout",
     "output_type": "stream",
     "text": [
      "USIndianaLaPorte\n"
     ]
    }
   ],
   "source": [
    "print(location_dictionary[1000])"
   ]
  },
  {
   "cell_type": "markdown",
   "metadata": {},
   "source": [
    "<br>"
   ]
  },
  {
   "cell_type": "markdown",
   "metadata": {},
   "source": [
    "**Pivoting Data**"
   ]
  },
  {
   "cell_type": "code",
   "execution_count": 345,
   "metadata": {},
   "outputs": [],
   "source": [
    "data = data.pivot(index=['Country_Region', 'Province_State', 'County', 'Date'], columns='Target', values='TargetValue')"
   ]
  },
  {
   "cell_type": "code",
   "execution_count": 346,
   "metadata": {},
   "outputs": [
    {
     "data": {
      "text/html": [
       "<div>\n",
       "<style scoped>\n",
       "    .dataframe tbody tr th:only-of-type {\n",
       "        vertical-align: middle;\n",
       "    }\n",
       "\n",
       "    .dataframe tbody tr th {\n",
       "        vertical-align: top;\n",
       "    }\n",
       "\n",
       "    .dataframe thead th {\n",
       "        text-align: right;\n",
       "    }\n",
       "</style>\n",
       "<table border=\"1\" class=\"dataframe\">\n",
       "  <thead>\n",
       "    <tr style=\"text-align: right;\">\n",
       "      <th></th>\n",
       "      <th></th>\n",
       "      <th></th>\n",
       "      <th>Target</th>\n",
       "      <th>ConfirmedCases</th>\n",
       "      <th>Fatalities</th>\n",
       "    </tr>\n",
       "    <tr>\n",
       "      <th>Country_Region</th>\n",
       "      <th>Province_State</th>\n",
       "      <th>County</th>\n",
       "      <th>Date</th>\n",
       "      <th></th>\n",
       "      <th></th>\n",
       "    </tr>\n",
       "  </thead>\n",
       "  <tbody>\n",
       "    <tr>\n",
       "      <th rowspan=\"5\" valign=\"top\">Afghanistan</th>\n",
       "      <th rowspan=\"5\" valign=\"top\"></th>\n",
       "      <th rowspan=\"5\" valign=\"top\"></th>\n",
       "      <th>1/23/2020</th>\n",
       "      <td>0</td>\n",
       "      <td>0</td>\n",
       "    </tr>\n",
       "    <tr>\n",
       "      <th>1/24/2020</th>\n",
       "      <td>0</td>\n",
       "      <td>0</td>\n",
       "    </tr>\n",
       "    <tr>\n",
       "      <th>1/25/2020</th>\n",
       "      <td>0</td>\n",
       "      <td>0</td>\n",
       "    </tr>\n",
       "    <tr>\n",
       "      <th>1/26/2020</th>\n",
       "      <td>0</td>\n",
       "      <td>0</td>\n",
       "    </tr>\n",
       "    <tr>\n",
       "      <th>1/27/2020</th>\n",
       "      <td>0</td>\n",
       "      <td>0</td>\n",
       "    </tr>\n",
       "  </tbody>\n",
       "</table>\n",
       "</div>"
      ],
      "text/plain": [
       "Target                                          ConfirmedCases  Fatalities\n",
       "Country_Region Province_State County Date                                 \n",
       "Afghanistan                          1/23/2020               0           0\n",
       "                                     1/24/2020               0           0\n",
       "                                     1/25/2020               0           0\n",
       "                                     1/26/2020               0           0\n",
       "                                     1/27/2020               0           0"
      ]
     },
     "execution_count": 346,
     "metadata": {},
     "output_type": "execute_result"
    }
   ],
   "source": [
    "data.head()"
   ]
  },
  {
   "cell_type": "markdown",
   "metadata": {},
   "source": [
    "<br>"
   ]
  },
  {
   "cell_type": "markdown",
   "metadata": {},
   "source": [
    "**Scaling the Data**"
   ]
  },
  {
   "cell_type": "code",
   "execution_count": 302,
   "metadata": {},
   "outputs": [
    {
     "data": {
      "text/plain": [
       "Ellipsis"
      ]
     },
     "execution_count": 302,
     "metadata": {},
     "output_type": "execute_result"
    }
   ],
   "source": [
    "..."
   ]
  },
  {
   "cell_type": "markdown",
   "metadata": {},
   "source": [
    "<br>"
   ]
  },
  {
   "cell_type": "markdown",
   "metadata": {},
   "source": [
    "**Creating Torch Tensor**"
   ]
  },
  {
   "cell_type": "code",
   "execution_count": 347,
   "metadata": {},
   "outputs": [],
   "source": [
    "result = data[['ConfirmedCases','Fatalities']].to_numpy()"
   ]
  },
  {
   "cell_type": "code",
   "execution_count": 348,
   "metadata": {},
   "outputs": [],
   "source": [
    "dataset = result.reshape(-1, 140, 2)"
   ]
  },
  {
   "cell_type": "code",
   "execution_count": 349,
   "metadata": {},
   "outputs": [],
   "source": [
    "train = dataset[:, :95, :]\n",
    "test  = dataset[:, 95:, :]"
   ]
  },
  {
   "cell_type": "code",
   "execution_count": 350,
   "metadata": {},
   "outputs": [
    {
     "data": {
      "text/plain": [
       "((3463, 95, 2), (3463, 45, 2))"
      ]
     },
     "execution_count": 350,
     "metadata": {},
     "output_type": "execute_result"
    }
   ],
   "source": [
    "train.shape, test.shape"
   ]
  },
  {
   "cell_type": "markdown",
   "metadata": {},
   "source": [
    "<br>"
   ]
  },
  {
   "cell_type": "markdown",
   "metadata": {},
   "source": [
    "**Plotting the Data**"
   ]
  },
  {
   "cell_type": "code",
   "execution_count": 351,
   "metadata": {},
   "outputs": [
    {
     "data": {
      "text/plain": [
       "[<matplotlib.lines.Line2D at 0x1ee9ccceec8>]"
      ]
     },
     "execution_count": 351,
     "metadata": {},
     "output_type": "execute_result"
    },
    {
     "data": {
      "image/png": "[encoded data removed]",
      "text/plain": [
       "<Figure size 1440x432 with 2 Axes>"
      ]
     },
     "metadata": {
      "needs_background": "light"
     },
     "output_type": "display_data"
    }
   ],
   "source": [
    "fig, axes = plt.subplots(ncols=2, figsize=(20, 6))\n",
    "\n",
    "#Train 1\n",
    "axes[0].set_title(location_dictionary[226])\n",
    "axes[0].plot(train[226, :, 0], color='#000E43', label = 'Confirmed Cases')\n",
    "axes[0].plot(train[226, :, 1], color='#22906F', label = 'Fatalities')\n",
    "\n",
    "#Train 2\n",
    "axes[1].set_title(location_dictionary[176])\n",
    "axes[1].plot(train[177, :, 0], color='#000E43', label = 'Confirmed Cases')\n",
    "axes[1].plot(train[177, :, 1], color='#22906F', label = 'Fatalities')"
   ]
  },
  {
   "cell_type": "markdown",
   "metadata": {},
   "source": [
    "<br>"
   ]
  },
  {
   "cell_type": "markdown",
   "metadata": {},
   "source": [
    "### Modeling"
   ]
  },
  {
   "cell_type": "markdown",
   "metadata": {},
   "source": [
    "<br>"
   ]
  },
  {
   "cell_type": "markdown",
   "metadata": {},
   "source": [
    "#### LSTM"
   ]
  },
  {
   "cell_type": "markdown",
   "metadata": {},
   "source": [
    "**Sequence Creation**"
   ]
  },
  {
   "cell_type": "code",
   "execution_count": 352,
   "metadata": {},
   "outputs": [],
   "source": [
    "train = np.sum(train, axis=0) \n",
    "test  = np.sum(test, axis=0)\n",
    "#train = torch.sum(train, dim = 0)\n",
    "#test  = torch.sum(test, dim = 0)"
   ]
  },
  {
   "cell_type": "code",
   "execution_count": 356,
   "metadata": {},
   "outputs": [
    {
     "data": {
      "text/plain": [
       "((95, 2), (45, 2))"
      ]
     },
     "execution_count": 356,
     "metadata": {},
     "output_type": "execute_result"
    }
   ],
   "source": [
    "train.shape, test.shape"
   ]
  },
  {
   "cell_type": "code",
   "execution_count": 357,
   "metadata": {},
   "outputs": [],
   "source": [
    "from sklearn.preprocessing import MinMaxScaler\n",
    "scaler = MinMaxScaler()\n",
    "scaler = scaler.fit(train)\n",
    "train = scaler.transform(train)\n",
    "test = scaler.transform(test)"
   ]
  },
  {
   "cell_type": "code",
   "execution_count": 360,
   "metadata": {},
   "outputs": [],
   "source": [
    "def create_sequences(data, seq_length):\n",
    "    xs = []; ys = []\n",
    "    for i in range(len(data) -seq_length -1):\n",
    "        x = data[i:(i+seq_length)]\n",
    "        y = data[i+seq_length]\n",
    "        xs.append(x)\n",
    "        ys.append(y)\n",
    "    #pdb.set_trace()\n",
    "    return np.array(xs), np.array(ys)\n",
    "\n",
    "seq_length = 10\n",
    "X_train, y_train = create_sequences(train, seq_length)\n",
    "X_test, y_test   = create_sequences(test, seq_length)"
   ]
  },
  {
   "cell_type": "code",
   "execution_count": 361,
   "metadata": {},
   "outputs": [],
   "source": [
    "X_train, y_train = torch.from_numpy(X_train).float(), torch.from_numpy(y_train).float()\n",
    "X_test, y_test = torch.from_numpy(X_test).float(), torch.from_numpy(y_test).float()"
   ]
  },
  {
   "cell_type": "markdown",
   "metadata": {},
   "source": [
    "<br>"
   ]
  },
  {
   "cell_type": "markdown",
   "metadata": {},
   "source": [
    "**Neural Network**"
   ]
  },
  {
   "cell_type": "code",
   "execution_count": 370,
   "metadata": {},
   "outputs": [],
   "source": [
    "class LSTMCoNet(nn.Module):\n",
    "    def __init__(self, n_features, n_hidden, seq_len, n_layers):\n",
    "        super().__init__()\n",
    "        self.n_hidden = n_hidden\n",
    "        self.seq_len  = seq_len\n",
    "        self.n_layers = n_layers\n",
    "        \n",
    "        self.lstm = nn.LSTM(input_size=n_features,\n",
    "                            hidden_size=n_hidden,\n",
    "                            num_layers=n_layers,\n",
    "                            dropout=0.5) \n",
    "        \n",
    "        self.linear = nn.Linear(in_features=n_hidden, out_features=2)\n",
    "     \n",
    "    def reset_hidden_state(self):\n",
    "        self.hidden = (torch.zeros(self.n_layers, self.seq_len, self.n_hidden),\n",
    "                       torch.zeros(self.n_layers, self.seq_len, self.n_hidden))\n",
    "            \n",
    "    def forward(self, sequences):\n",
    "        lstm_out, self.hidden = self.lstm(sequences.view(len(sequences), self.seq_len, -1),\n",
    "                                          self.hidden)\n",
    "            \n",
    "        last_time_step = lstm_out.view(self.seq_len, len(sequences), self.n_hidden)[-1]\n",
    "        y_pred = self.linear(last_time_step)\n",
    "        return y_pred  "
   ]
  },
  {
   "cell_type": "code",
   "execution_count": 374,
   "metadata": {},
   "outputs": [],
   "source": [
    "def train_model(model, train_data, train_labels, test_data=None, test_labels=None):\n",
    "    \n",
    "    loss_fn = torch.nn.MSELoss(reduction='sum')\n",
    "    optimiser = torch.optim.Adam(model.parameters(), lr=0.00025)\n",
    "    num_epochs = 150\n",
    "    train_hist = np.zeros(num_epochs)\n",
    "    test_hist = np.zeros(num_epochs)\n",
    "    \n",
    "    for t in range(num_epochs):\n",
    "        model.reset_hidden_state()\n",
    "        \n",
    "        y_pred = model(X_train)\n",
    "        loss = loss_fn(y_pred.float(), y_train)\n",
    "        \n",
    "        if test_data is not None:\n",
    "            with torch.no_grad():\n",
    "                y_test_pred = model(X_test)\n",
    "                test_loss = loss_fn(y_test_pred.float(), y_test)\n",
    "            test_hist[t] = test_loss.item()\n",
    "            \n",
    "            if t % 10 == 0:\n",
    "                print(f'Epoch {t} train loss: {round(loss.item(), 2)} test loss: {round(test_loss.item(), 2)}')\n",
    "        \n",
    "        elif t % 10 == 0:\n",
    "            print(f'Epoch {t} train loss: {round(loss.item(), 2)}')\n",
    "            \n",
    "        train_hist[t] = loss.item()\n",
    "        optimiser.zero_grad()\n",
    "        loss.backward()\n",
    "        optimiser.step()\n",
    "        \n",
    "    return model.eval(), train_hist, test_hist"
   ]
  },
  {
   "cell_type": "code",
   "execution_count": 377,
   "metadata": {},
   "outputs": [
    {
     "name": "stdout",
     "output_type": "stream",
     "text": [
      "Epoch 0 train loss: 32.81 test loss: 33.98\n",
      "Epoch 10 train loss: 20.12 test loss: 7.64\n",
      "Epoch 20 train loss: 18.74 test loss: 15.65\n",
      "Epoch 30 train loss: 18.08 test loss: 10.71\n",
      "Epoch 40 train loss: 18.06 test loss: 13.2\n",
      "Epoch 50 train loss: 18.0 test loss: 11.4\n",
      "Epoch 60 train loss: 17.68 test loss: 11.89\n",
      "Epoch 70 train loss: 16.88 test loss: 9.23\n",
      "Epoch 80 train loss: 12.19 test loss: 91.66\n",
      "Epoch 90 train loss: 11.88 test loss: 4.1\n",
      "Epoch 100 train loss: 11.76 test loss: 2.49\n",
      "Epoch 110 train loss: 11.72 test loss: 1.82\n",
      "Epoch 120 train loss: 11.61 test loss: 2.84\n",
      "Epoch 130 train loss: 11.45 test loss: 2.54\n",
      "Epoch 140 train loss: 11.13 test loss: 1.96\n"
     ]
    }
   ],
   "source": [
    "model = LSTMCoNet(n_features=2, n_hidden=512, seq_len=seq_length, n_layers=2)\n",
    "model, train_hist, test_hist = train_model(model,X_train, y_train, X_test, y_test)"
   ]
  },
  {
   "cell_type": "code",
   "execution_count": 378,
   "metadata": {},
   "outputs": [
    {
     "data": {
      "text/plain": [
       "[<matplotlib.lines.Line2D at 0x1eea83cda08>]"
      ]
     },
     "execution_count": 378,
     "metadata": {},
     "output_type": "execute_result"
    },
    {
     "data": {
      "image/png": "[encoded data removed]",
      "text/plain": [
       "<Figure size 432x288 with 1 Axes>"
      ]
     },
     "metadata": {
      "needs_background": "light"
     },
     "output_type": "display_data"
    }
   ],
   "source": [
    "plt.title('Train & Test Loss')\n",
    "plt.plot(train_hist, color='#000E43', label = 'Confirmed Cases')\n",
    "plt.plot(test_hist, color='#22906F', label = 'Fatalities')"
   ]
  },
  {
   "cell_type": "code",
   "execution_count": null,
   "metadata": {},
   "outputs": [],
   "source": []
  },
  {
   "cell_type": "markdown",
   "metadata": {},
   "source": [
    "<br>"
   ]
  },
  {
   "cell_type": "markdown",
   "metadata": {},
   "source": [
    "#### Appendix"
   ]
  },
  {
   "cell_type": "markdown",
   "metadata": {},
   "source": [
    "**Feature Engineering Ideas:**"
   ]
  },
  {
   "cell_type": "markdown",
   "metadata": {},
   "source": [
    "- Elderly Population Percentage\n",
    "- GDP per Capita\n",
    "- Population male percentage -> males are more likely to die\n",
    "- Health indicators: Quality of health care sector, obesity...\n",
    "- Number of Tests Administered\n",
    "- Populatin Density"
   ]
  }
 ],
 "metadata": {
  "kernelspec": {
   "display_name": "Python 3",
   "language": "python",
   "name": "python3"
  },
  "language_info": {
   "codemirror_mode": {
    "name": "ipython",
    "version": 3
   },
   "file_extension": ".py",
   "mimetype": "text/x-python",
   "name": "python",
   "nbconvert_exporter": "python",
   "pygments_lexer": "ipython3",
   "version": "3.7.6"
  }
 },
 "nbformat": 4,
 "nbformat_minor": 4
}
