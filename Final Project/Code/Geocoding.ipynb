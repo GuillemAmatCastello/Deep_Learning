{
 "cells": [
  {
   "cell_type": "markdown",
   "metadata": {},
   "source": [
    "**Install Packages & Change Directory**"
   ]
  },
  {
   "cell_type": "code",
   "execution_count": null,
   "metadata": {},
   "outputs": [],
   "source": [
    "!pip install geopy"
   ]
  },
  {
   "cell_type": "code",
   "execution_count": 7,
   "metadata": {},
   "outputs": [
    {
     "name": "stdout",
     "output_type": "stream",
     "text": [
      "C:\\Users\\guill\\Desktop\\Final Project\n"
     ]
    }
   ],
   "source": [
    "%cd .."
   ]
  },
  {
   "cell_type": "markdown",
   "metadata": {},
   "source": [
    "<br>"
   ]
  },
  {
   "cell_type": "markdown",
   "metadata": {},
   "source": [
    "**Geocoding**"
   ]
  },
  {
   "cell_type": "code",
   "execution_count": 35,
   "metadata": {},
   "outputs": [],
   "source": [
    "from geopy.geocoders import Nominatim\n",
    "from geopy.exc import GeocoderTimedOut \n",
    "from typing import List\n",
    "import pandas as pd\n",
    "import numpy as np\n",
    "import os"
   ]
  },
  {
   "cell_type": "code",
   "execution_count": 10,
   "metadata": {},
   "outputs": [
    {
     "name": "stderr",
     "output_type": "stream",
     "text": [
      "C:\\Users\\guill\\anaconda3\\lib\\site-packages\\IPython\\core\\interactiveshell.py:3063: DtypeWarning: Columns (1) have mixed types.Specify dtype option on import or set low_memory=False.\n",
      "  interactivity=interactivity, compiler=compiler, result=result)\n"
     ]
    }
   ],
   "source": [
    "#Reading Data\n",
    "data = pd.read_csv(os.path.join(os.getcwd(), 'Data', 'week_5', 'train.csv'))"
   ]
  },
  {
   "cell_type": "code",
   "execution_count": 18,
   "metadata": {},
   "outputs": [],
   "source": [
    "data['County']         = data['County'].fillna('')\n",
    "data['Province_State'] = data['Province_State'].fillna('')\n",
    "location = data['Country_Region'] + ' ' + data['Province_State'] + ' ' + data['County']"
   ]
  },
  {
   "cell_type": "code",
   "execution_count": 33,
   "metadata": {},
   "outputs": [],
   "source": [
    "unique_location = np.unique(location)"
   ]
  },
  {
   "cell_type": "code",
   "execution_count": 55,
   "metadata": {},
   "outputs": [],
   "source": [
    "longitude = [] \n",
    "latitude = [] \n",
    "   \n",
    "def findGeocode(location: str) -> List[int]:  \n",
    "    try: \n",
    "        geolocator = Nominatim(user_agent=\"guillem.amat@duke.edu\") \n",
    "        return geolocator.geocode(location, timeout=None) \n",
    "      \n",
    "    except GeocoderTimedOut:  \n",
    "        time.sleep(1)\n",
    "        return findGeocode(location)"
   ]
  },
  {
   "cell_type": "code",
   "execution_count": 56,
   "metadata": {},
   "outputs": [],
   "source": [
    "for i in unique_location:  \n",
    "    if findGeocode(i) != None: \n",
    "        loc = findGeocode(i)\n",
    "        latitude.append(loc.latitude) \n",
    "        longitude.append(loc.longitude)\n",
    "\n",
    "    else: \n",
    "        latitude.append(np.nan) \n",
    "        longitude.append(np.nan) "
   ]
  },
  {
   "cell_type": "code",
   "execution_count": 61,
   "metadata": {},
   "outputs": [],
   "source": [
    "coordinates = list(zip(unique_location, longitude, latitude))"
   ]
  },
  {
   "cell_type": "code",
   "execution_count": 63,
   "metadata": {},
   "outputs": [],
   "source": [
    "df_coordinates = pd.DataFrame(coordinates)\n",
    "df_coordinates.columns = ['Location', 'Longitude', 'Latitude']"
   ]
  },
  {
   "cell_type": "code",
   "execution_count": 77,
   "metadata": {},
   "outputs": [],
   "source": [
    "df_coordinates.to_csv(os.path.join(os.getcwd(), 'Data', 'other', 'coordinates.csv'), index=False)"
   ]
  }
 ],
 "metadata": {
  "kernelspec": {
   "display_name": "Python 3",
   "language": "python",
   "name": "python3"
  },
  "language_info": {
   "codemirror_mode": {
    "name": "ipython",
    "version": 3
   },
   "file_extension": ".py",
   "mimetype": "text/x-python",
   "name": "python",
   "nbconvert_exporter": "python",
   "pygments_lexer": "ipython3",
   "version": "3.7.6"
  }
 },
 "nbformat": 4,
 "nbformat_minor": 4
}
